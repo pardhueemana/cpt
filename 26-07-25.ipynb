{
 "cells": [
  {
   "cell_type": "code",
   "execution_count": 3,
   "id": "f5581856-5aa2-4dad-8f33-89ac95e2ac11",
   "metadata": {},
   "outputs": [
    {
     "name": "stdout",
     "output_type": "stream",
     "text": [
      "Double linked list\n",
      "1.insert at the end\n",
      "2.display\n",
      "3.exit\n"
     ]
    },
    {
     "name": "stdin",
     "output_type": "stream",
     "text": [
      "enter the choice 11\n"
     ]
    },
    {
     "name": "stdout",
     "output_type": "stream",
     "text": [
      "enter the correct option\n",
      "Double linked list\n",
      "1.insert at the end\n",
      "2.display\n",
      "3.exit\n"
     ]
    },
    {
     "name": "stdin",
     "output_type": "stream",
     "text": [
      "enter the choice 1\n",
      "enter the data: 11\n"
     ]
    },
    {
     "name": "stdout",
     "output_type": "stream",
     "text": [
      "Double linked list\n",
      "1.insert at the end\n",
      "2.display\n",
      "3.exit\n"
     ]
    },
    {
     "name": "stdin",
     "output_type": "stream",
     "text": [
      "enter the choice 1\n",
      "enter the data: 22\n"
     ]
    },
    {
     "name": "stdout",
     "output_type": "stream",
     "text": [
      "Double linked list\n",
      "1.insert at the end\n",
      "2.display\n",
      "3.exit\n"
     ]
    },
    {
     "name": "stdin",
     "output_type": "stream",
     "text": [
      "enter the choice 1\n",
      "enter the data: 33\n"
     ]
    },
    {
     "name": "stdout",
     "output_type": "stream",
     "text": [
      "Double linked list\n",
      "1.insert at the end\n",
      "2.display\n",
      "3.exit\n"
     ]
    },
    {
     "name": "stdin",
     "output_type": "stream",
     "text": [
      "enter the choice 1\n",
      "enter the data: 44\n"
     ]
    },
    {
     "name": "stdout",
     "output_type": "stream",
     "text": [
      "Double linked list\n",
      "1.insert at the end\n",
      "2.display\n",
      "3.exit\n"
     ]
    },
    {
     "name": "stdin",
     "output_type": "stream",
     "text": [
      "enter the choice 2\n"
     ]
    },
    {
     "name": "stdout",
     "output_type": "stream",
     "text": [
      "11<-->22<-->33<-->44<-->None\n",
      "Double linked list\n",
      "1.insert at the end\n",
      "2.display\n",
      "3.exit\n"
     ]
    },
    {
     "name": "stdin",
     "output_type": "stream",
     "text": [
      "enter the choice 3\n"
     ]
    },
    {
     "name": "stdout",
     "output_type": "stream",
     "text": [
      "operation exited\n"
     ]
    }
   ],
   "source": [
    "'''\n",
    "Double linked list\n",
    " operations;\n",
    " 1. insertion \n",
    " 2. deletion\n",
    " 3. traversal\n",
    " '''\n",
    "class Node:\n",
    "    def __init__(self,data):\n",
    "        self.data=data\n",
    "        self.next=None\n",
    "        self.prev=None\n",
    "class Double_ll:\n",
    "    def __init__(self):\n",
    "        self.head=None\n",
    "    def iae(self,data):\n",
    "        nn=Node(data)\n",
    "        if self.head is None:\n",
    "            self.head=nn\n",
    "            return\n",
    "        current=self.head\n",
    "        while current.next:\n",
    "            current=current.next\n",
    "        current.next=nn\n",
    "        nn.prev=current\n",
    "    def display(self):\n",
    "        if not self.head:\n",
    "            print(\"DLL is empty\")\n",
    "        current=self.head\n",
    "        while current:\n",
    "            print(f\"{current.data}\",end=\"<-->\")\n",
    "            current=current.next\n",
    "        print(\"None\")\n",
    "dll=Double_ll()\n",
    "while True:\n",
    "    print(\"Double linked list\")\n",
    "    print(\"1.insert at the end\\n2.display\\n3.exit\")\n",
    "    choice=int(input(\"enter the choice\"))\n",
    "\n",
    "    if choice==1:\n",
    "        data=int(input(\"enter the data:\"))\n",
    "        dll.iae(data)\n",
    "    elif choice==2:\n",
    "        dll.display()\n",
    "    elif choice==3:\n",
    "        print(\"operation exited\")\n",
    "        break\n",
    "    else:\n",
    "        print(\"enter the correct option\")"
   ]
  },
  {
   "cell_type": "code",
   "execution_count": null,
   "id": "acccdf71-26c3-4b61-9499-65a9b52819d1",
   "metadata": {},
   "outputs": [],
   "source": [
    "class Node:\n",
    "    def __init__(self,data):\n",
    "        self.data=data\n",
    "        self.next=None\n",
    "        self.prev=None3\n",
    "        \n",
    "class Double_ll:\n",
    "    def __init__(self):\n",
    "        self.head=None\n",
    "    def iab(self,data):\n",
    "        nn=Node(data)\n",
    "        nn.next=self.head\n",
    "        if self.head:\n",
    "            self.head.prev=nn\n",
    "        self.head=nn\n",
    "    def display(self):\n",
    "        if not self.head:\n",
    "            print(\"DLL is empty\")\n",
    "        current=self.head\n",
    "        while current:\n",
    "            print(f\"{current.data}\",end=\"<-->\")\n",
    "            current=current.next\n",
    "        print(\"None\")\n",
    "dll=Double_ll()\n",
    "while True:\n",
    "    print(\"Double linked list\")\n",
    "    print(\"1.insert at the end\\n2.display\\n3.exit\")\n",
    "    choice=int(input(\"enter the choice\"))\n",
    "\n",
    "    if choice==1:\n",
    "        data=int(input(\"enter the data:\"))\n",
    "        dll.iae(data)\n",
    "    elif choice==2:\n",
    "        dll.display()\n",
    "    elif choice==3:\n",
    "        print(\"operation exited\")\n",
    "        break\n",
    "    else:\n",
    "        print(\"enter the correct option\")"
   ]
  },
  {
   "cell_type": "code",
   "execution_count": 5,
   "id": "54f2a1e1-52c7-4898-8bb6-f229584e8df1",
   "metadata": {},
   "outputs": [
    {
     "name": "stdout",
     "output_type": "stream",
     "text": [
      "Double linked list\n",
      "1.insert at the end\n",
      "2.display\n",
      "3.exit\n"
     ]
    },
    {
     "name": "stdin",
     "output_type": "stream",
     "text": [
      "enter the choice 1\n",
      "enter the data: 11\n",
      "enter the position 1\n"
     ]
    },
    {
     "name": "stdout",
     "output_type": "stream",
     "text": [
      "out of range\n",
      "Double linked list\n",
      "1.insert at the end\n",
      "2.display\n",
      "3.exit\n"
     ]
    },
    {
     "name": "stdin",
     "output_type": "stream",
     "text": [
      "enter the choice 1\n",
      "enter the data: 11\n",
      "enter the position 0\n"
     ]
    },
    {
     "name": "stdout",
     "output_type": "stream",
     "text": [
      "out of range\n",
      "Double linked list\n",
      "1.insert at the end\n",
      "2.display\n",
      "3.exit\n"
     ]
    },
    {
     "name": "stdin",
     "output_type": "stream",
     "text": [
      "enter the choice 3\n"
     ]
    },
    {
     "name": "stdout",
     "output_type": "stream",
     "text": [
      "operation exited\n"
     ]
    }
   ],
   "source": [
    "class Node:\n",
    "    def __init__(self,data):\n",
    "        self.data=data\n",
    "        self.next=None\n",
    "        self.prev=None\n",
    "class Double_ll:\n",
    "    def __init__(self):\n",
    "        self.head=None\n",
    "    def iap(self,data,pos):\n",
    "        nn=Node(data)\n",
    "        if not self.head:\n",
    "            print(\"out of range\")\n",
    "            return\n",
    "        current=self.head\n",
    "        if p==1:\n",
    "            nn.next=self.head\n",
    "            if self.head:\n",
    "                self.head.prev=nn\n",
    "            self.head=nn\n",
    "        c=1\n",
    "        while c!=p-1:\n",
    "            if not current:\n",
    "                print(\"out of range\")\n",
    "                return\n",
    "            current=current.next\n",
    "            c+=1\n",
    "        nn.prev=curent\n",
    "        nn.next=current.next\n",
    "        current.next.prev=nn\n",
    "        current.next=nn\n",
    "    def display(self):\n",
    "        if not self.head:\n",
    "            print(\"DLL is empty\")\n",
    "        current=self.head\n",
    "        while current:\n",
    "            print(f\"{current.data}\",end=\"<-->\")\n",
    "            current=current.next\n",
    "        print(\"None\")\n",
    "dll=Double_ll()\n",
    "while True:\n",
    "    print(\"Double linked list\")\n",
    "    print(\"1.insert at the end\\n2.display\\n3.exit\")\n",
    "    choice=int(input(\"enter the choice\"))\n",
    "\n",
    "    if choice==1:\n",
    "        data=int(input(\"enter the data:\"))\n",
    "        pos=int(input(\"enter the position\"))\n",
    "        dll.iap(data,pos)\n",
    "    elif choice==2:\n",
    "        dll.display()\n",
    "    elif choice==3:\n",
    "        print(\"operation exited\")\n",
    "        break\n",
    "    else:\n",
    "        print(\"enter the correct option\")"
   ]
  },
  {
   "cell_type": "code",
   "execution_count": 13,
   "id": "21e13446-1809-4b50-8537-8c38adf29c91",
   "metadata": {},
   "outputs": [
    {
     "name": "stdout",
     "output_type": "stream",
     "text": [
      "Double linked list\n",
      "1.insert at the begining\n",
      "2.insert at the end\n",
      "3.insert at the position\n",
      "4.display\n",
      "5.exit\n"
     ]
    },
    {
     "name": "stdin",
     "output_type": "stream",
     "text": [
      "enter the choice 1\n",
      "enter the data: 33\n"
     ]
    },
    {
     "name": "stdout",
     "output_type": "stream",
     "text": [
      "Double linked list\n",
      "1.insert at the begining\n",
      "2.insert at the end\n",
      "3.insert at the position\n",
      "4.display\n",
      "5.exit\n"
     ]
    },
    {
     "name": "stdin",
     "output_type": "stream",
     "text": [
      "enter the choice 1\n",
      "enter the data: 22\n"
     ]
    },
    {
     "name": "stdout",
     "output_type": "stream",
     "text": [
      "Double linked list\n",
      "1.insert at the begining\n",
      "2.insert at the end\n",
      "3.insert at the position\n",
      "4.display\n",
      "5.exit\n"
     ]
    },
    {
     "name": "stdin",
     "output_type": "stream",
     "text": [
      "enter the choice 1\n",
      "enter the data: 11\n"
     ]
    },
    {
     "name": "stdout",
     "output_type": "stream",
     "text": [
      "Double linked list\n",
      "1.insert at the begining\n",
      "2.insert at the end\n",
      "3.insert at the position\n",
      "4.display\n",
      "5.exit\n"
     ]
    },
    {
     "name": "stdin",
     "output_type": "stream",
     "text": [
      "enter the choice 4\n"
     ]
    },
    {
     "name": "stdout",
     "output_type": "stream",
     "text": [
      "11<-->22<-->33<-->None\n",
      "Double linked list\n",
      "1.insert at the begining\n",
      "2.insert at the end\n",
      "3.insert at the position\n",
      "4.display\n",
      "5.exit\n"
     ]
    },
    {
     "name": "stdin",
     "output_type": "stream",
     "text": [
      "enter the choice 2\n",
      "enter the data: 55\n"
     ]
    },
    {
     "name": "stdout",
     "output_type": "stream",
     "text": [
      "Double linked list\n",
      "1.insert at the begining\n",
      "2.insert at the end\n",
      "3.insert at the position\n",
      "4.display\n",
      "5.exit\n"
     ]
    },
    {
     "name": "stdin",
     "output_type": "stream",
     "text": [
      "enter the choice 3\n",
      "enter the data: 44\n",
      "enter the position 4\n"
     ]
    },
    {
     "name": "stdout",
     "output_type": "stream",
     "text": [
      "Double linked list\n",
      "1.insert at the begining\n",
      "2.insert at the end\n",
      "3.insert at the position\n",
      "4.display\n",
      "5.exit\n"
     ]
    },
    {
     "name": "stdin",
     "output_type": "stream",
     "text": [
      "enter the choice 4\n"
     ]
    },
    {
     "name": "stdout",
     "output_type": "stream",
     "text": [
      "11<-->22<-->33<-->44<-->55<-->None\n",
      "Double linked list\n",
      "1.insert at the begining\n",
      "2.insert at the end\n",
      "3.insert at the position\n",
      "4.display\n",
      "5.exit\n"
     ]
    },
    {
     "name": "stdin",
     "output_type": "stream",
     "text": [
      "enter the choice 5\n"
     ]
    },
    {
     "name": "stdout",
     "output_type": "stream",
     "text": [
      "operation exited\n"
     ]
    }
   ],
   "source": [
    "class Node:\n",
    "    def __init__(self,data):\n",
    "        self.data=data\n",
    "        self.next=None\n",
    "        self.prev=None\n",
    "class Double_ll:\n",
    "    def __init__(self):\n",
    "        self.head=None\n",
    "    def iab(self,data):\n",
    "        nn=Node(data)\n",
    "        nn.next=self.head\n",
    "        if self.head:\n",
    "            self.head.prev=nn\n",
    "        self.head=nn\n",
    "    def iae(self,data):\n",
    "        nn=Node(data)\n",
    "        if self.head is None:\n",
    "            self.head=nn\n",
    "            return\n",
    "        current=self.head\n",
    "        while current.next:\n",
    "            current=current.next\n",
    "        current.next=nn\n",
    "        nn.prev=current\n",
    "    def iap(self,data,pos):\n",
    "        nn=Node(data)\n",
    "        if not self.head:\n",
    "            print(\"out of range\")\n",
    "            return\n",
    "        current=self.head\n",
    "        if pos==1:\n",
    "            nn.next=self.head\n",
    "            if self.head:\n",
    "                self.head.prev=nn\n",
    "            self.head=nn\n",
    "        c=1\n",
    "        while c!=pos-1:\n",
    "            if not current:\n",
    "                print(\"out of range\")\n",
    "                return\n",
    "            current=current.next\n",
    "            c+=1\n",
    "        nn.prev=current\n",
    "        nn.next=current.next\n",
    "        current.next.prev=nn\n",
    "        current.next=nn\n",
    "    def display(self):\n",
    "        if not self.head:\n",
    "            print(\"DLL is empty\")\n",
    "        current=self.head\n",
    "        while current:\n",
    "            print(f\"{current.data}\",end=\"<-->\")\n",
    "            current=current.next\n",
    "        print(\"None\")\n",
    "dll=Double_ll()\n",
    "while True:\n",
    "    print(\"Double linked list\")\n",
    "    print(\"1.insert at the begining\\n2.insert at the end\\n3.insert at the position\\n4.display\\n5.exit\")\n",
    "    choice=int(input(\"enter the choice\"))\n",
    "    if choice==1:\n",
    "        data=int(input(\"enter the data:\"))\n",
    "        dll.iab(data)\n",
    "    elif choice==2:\n",
    "        data=int(input(\"enter the data:\"))\n",
    "        dll.iae(data)\n",
    "    elif choice==3:\n",
    "        data=int(input(\"enter the data:\"))\n",
    "        pos=int(input(\"enter the position\"))\n",
    "        dll.iap(data,pos)\n",
    "    elif choice==4:\n",
    "        dll.display()\n",
    "    elif choice==5:\n",
    "        print(\"operation exited\")\n",
    "        break\n",
    "    else:\n",
    "        print(\"enter the correct option\")"
   ]
  },
  {
   "cell_type": "code",
   "execution_count": null,
   "id": "9e11fd9f-7696-431f-bf91-5c6bf2737c50",
   "metadata": {},
   "outputs": [],
   "source": []
  }
 ],
 "metadata": {
  "kernelspec": {
   "display_name": "Python 3 (ipykernel)",
   "language": "python",
   "name": "python3"
  },
  "language_info": {
   "codemirror_mode": {
    "name": "ipython",
    "version": 3
   },
   "file_extension": ".py",
   "mimetype": "text/x-python",
   "name": "python",
   "nbconvert_exporter": "python",
   "pygments_lexer": "ipython3",
   "version": "3.12.7"
  }
 },
 "nbformat": 4,
 "nbformat_minor": 5
}
