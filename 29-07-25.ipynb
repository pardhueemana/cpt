{
 "cells": [
  {
   "cell_type": "code",
   "execution_count": 27,
   "id": "fce801d4-9709-48fb-bb2b-0b60f0c0396f",
   "metadata": {},
   "outputs": [
    {
     "name": "stdin",
     "output_type": "stream",
     "text": [
      "enter the no of elements: 5\n",
      "enter the element1 11\n",
      "enter the element2 22\n",
      "enter the element3 33\n",
      "enter the element4 44\n",
      "enter the element5 55\n"
     ]
    },
    {
     "name": "stdout",
     "output_type": "stream",
     "text": [
      "Double ll\n",
      "11<--->22<--->33<--->44<--->55<--->None\n",
      "values for traversing backward...\n",
      "55<--->44<--->33<--->22<--->11<--->None\n"
     ]
    }
   ],
   "source": [
    "'''insertion at end ,backtraversal'''\n",
    "class Node:\n",
    "    def __init__(self,data):\n",
    "        self.data=data\n",
    "        self.next=None\n",
    "        self.prev=None\n",
    "class Double_ll:\n",
    "    def __init__(self):\n",
    "        self.head=None\n",
    "    def iae(self,data):\n",
    "        nn=Node(data)\n",
    "        if self.head is None:\n",
    "            self.head=nn\n",
    "            return\n",
    "        current=self.head\n",
    "        while current.next:\n",
    "            current=current.next\n",
    "        current.next=nn\n",
    "        nn.prev=current\n",
    "    def backtraverse(self):\n",
    "        print(\"values for traversing backward...\")\n",
    "        current=self.head\n",
    "        if not current:\n",
    "            print(\"empty ll\")\n",
    "            return\n",
    "        while current.next:\n",
    "            current=current.next\n",
    "        while current:\n",
    "            print(current.data,end=\"<--->\")\n",
    "            current=current.prev\n",
    "        print(\"None\")\n",
    "    def display(self):\n",
    "        current=self.head\n",
    "        print(\"Double ll\")\n",
    "        while current:\n",
    "            print(current.data,end=\"<--->\")\n",
    "            current=current.next\n",
    "        print(\"None\")\n",
    "dll=Double_ll()\n",
    "n=int(input(\"enter the no of elements:\"))\n",
    "for i in range(n):\n",
    "    val=int(input(f\"enter the element{i+1}\"))\n",
    "    dll.iae(val)\n",
    "dll.display()\n",
    "dll.backtraverse()"
   ]
  },
  {
   "cell_type": "code",
   "execution_count": 29,
   "id": "67b21006-9810-4c6d-8746-a9cd898c9dd5",
   "metadata": {},
   "outputs": [
    {
     "name": "stdin",
     "output_type": "stream",
     "text": [
      "enter the no of elements: 5\n",
      "enter the element1 11\n",
      "enter the element2 22\n",
      "enter the element3 33\n",
      "enter the element4 44\n",
      "enter the element5 55\n"
     ]
    },
    {
     "name": "stdout",
     "output_type": "stream",
     "text": [
      "Double ll\n",
      "55<--->44<--->33<--->22<--->11<--->None\n",
      "values for traversing backward...\n",
      "11<--->22<--->33<--->44<--->55<--->None\n"
     ]
    }
   ],
   "source": [
    "'''insertion at begining ,back traversal'''\n",
    "class Node:\n",
    "    def __init__(self,data):\n",
    "        self.data=data\n",
    "        self.next=None\n",
    "        self.prev=None\n",
    "class Double_ll:\n",
    "    def __init__(self):\n",
    "        self.head=None\n",
    "    def iab(self,data):\n",
    "        nn=Node(data)\n",
    "        nn.next=self.head\n",
    "        if self.head:\n",
    "            self.head.prev=nn\n",
    "        self.head=nn\n",
    "    def backtraverse(self):\n",
    "        print(\"values for traversing backward...\")\n",
    "        current=self.head\n",
    "        if not current:\n",
    "            print(\"empty ll\")\n",
    "            return\n",
    "        while current.next:\n",
    "            current=current.next\n",
    "        while current:\n",
    "            print(current.data,end=\"<--->\")\n",
    "            current=current.prev\n",
    "        print(\"None\")\n",
    "    def display(self):\n",
    "        current=self.head\n",
    "        print(\"Double ll\")\n",
    "        while current:\n",
    "            print(current.data,end=\"<--->\")\n",
    "            current=current.next\n",
    "        print(\"None\")\n",
    "dll=Double_ll()\n",
    "n=int(input(\"enter the no of elements:\"))\n",
    "for i in range(n):\n",
    "    val=int(input(f\"enter the element{i+1}\"))\n",
    "    dll.iab(val)\n",
    "dll.display()\n",
    "dll.backtraverse()"
   ]
  },
  {
   "cell_type": "code",
   "execution_count": 62,
   "id": "586cca35-d972-4c49-9ea9-6f7cf9c2e2d1",
   "metadata": {},
   "outputs": [
    {
     "name": "stdin",
     "output_type": "stream",
     "text": [
      "enter the no of elements: 1\n",
      "enter the element1 11\n"
     ]
    },
    {
     "name": "stdout",
     "output_type": "stream",
     "text": [
      "Double ll\n",
      "11<--->None\n"
     ]
    },
    {
     "name": "stdin",
     "output_type": "stream",
     "text": [
      "enter how many want to delete: 2\n"
     ]
    },
    {
     "name": "stdout",
     "output_type": "stream",
     "text": [
      "Deleted:11\n",
      "empty ll\n",
      "Double ll\n",
      "None\n"
     ]
    }
   ],
   "source": [
    "'''insertion at begining,delete at beginig'''\n",
    "class Node:\n",
    "    def __init__(self,data):\n",
    "        self.data=data\n",
    "        self.next=None\n",
    "        self.prev=None\n",
    "class Double_ll:\n",
    "    def __init__(self):\n",
    "        self.head=None\n",
    "    def iab(self,data):\n",
    "        nn=Node(data)\n",
    "        nn.next=self.head\n",
    "        if self.head:\n",
    "            self.head.prev=nn\n",
    "        self.head=nn\n",
    "    def dab(self):\n",
    "        if not self.head:\n",
    "            print(\"empty ll\")\n",
    "            return\n",
    "        print(f\"Deleted:{self.head.data}\")\n",
    "        self.head=self.head.next\n",
    "        if self.head:\n",
    "            self.head.prev=None\n",
    "    def display(self):\n",
    "        current=self.head\n",
    "        print(\"Double ll\")\n",
    "        while current:\n",
    "            print(current.data,end=\"<--->\")\n",
    "            current=current.next\n",
    "        print(\"None\")\n",
    "dll=Double_ll()\n",
    "n=int(input(\"enter the no of elements:\"))\n",
    "for i in range(n):\n",
    "    val=int(input(f\"enter the element{i+1}\"))\n",
    "    dll.iab(val)\n",
    "dll.display()\n",
    "b=int(input(\"enter how many want to delete:\"))\n",
    "for j in range(b):\n",
    "    dll.dab()\n",
    "dll.display()"
   ]
  },
  {
   "cell_type": "code",
   "execution_count": 33,
   "id": "f4137395-e6ee-4155-9c03-2986afea727d",
   "metadata": {},
   "outputs": [
    {
     "name": "stdin",
     "output_type": "stream",
     "text": [
      "enter the no of elements: 5\n",
      "enter the element1 11\n",
      "enter the element2 22\n",
      "enter the element3 33\n",
      "enter the element4 44\n",
      "enter the element5 55\n"
     ]
    },
    {
     "name": "stdout",
     "output_type": "stream",
     "text": [
      "Double ll\n",
      "55<--->44<--->33<--->22<--->11<--->None\n"
     ]
    },
    {
     "name": "stdin",
     "output_type": "stream",
     "text": [
      "enter how many want to delete: 2\n"
     ]
    },
    {
     "name": "stdout",
     "output_type": "stream",
     "text": [
      "deleted:11\n",
      "Double ll\n",
      "55<--->44<--->33<--->22<--->None\n",
      "deleted:22\n",
      "Double ll\n",
      "55<--->44<--->33<--->None\n"
     ]
    }
   ],
   "source": [
    "'''insertion at begining ,deleting at end'''\n",
    "class Node:\n",
    "    def __init__(self,data):\n",
    "        self.data=data\n",
    "        self.next=None\n",
    "        self.prev=None\n",
    "class Double_ll:\n",
    "    def __init__(self):\n",
    "        self.head=None\n",
    "    def iab(self,data):\n",
    "        nn=Node(data)\n",
    "        nn.next=self.head\n",
    "        if self.head:\n",
    "            self.head.prev=nn\n",
    "        self.head=nn\n",
    "    def dae(self):\n",
    "        if not self.head:\n",
    "            print(\"empty ll\")\n",
    "            return\n",
    "        current=self.head\n",
    "        while current.next:\n",
    "            current=current.next\n",
    "        print(f\"deleted:{current.data}\")\n",
    "        if current.prev:\n",
    "            current.prev.next=None\n",
    "        else:\n",
    "            self.head=None\n",
    "    def display(self):\n",
    "        current=self.head\n",
    "        print(\"Double ll\")\n",
    "        while current:\n",
    "            print(current.data,end=\"<--->\")\n",
    "            current=current.next\n",
    "        print(\"None\")\n",
    "dll=Double_ll()\n",
    "n=int(input(\"enter the no of elements:\"))\n",
    "for i in range(n):\n",
    "    val=int(input(f\"enter the element{i+1}\"))\n",
    "    dll.iab(val)\n",
    "dll.display()\n",
    "b=int(input(\"enter how many want to delete:\"))\n",
    "for j in range(b):\n",
    "    dll.dae()\n",
    "    dll.display()"
   ]
  },
  {
   "cell_type": "code",
   "execution_count": 35,
   "id": "f7f17080-3271-4bc6-8c9d-31d7a486cf08",
   "metadata": {},
   "outputs": [
    {
     "name": "stdin",
     "output_type": "stream",
     "text": [
      "enter the no of elements: 5\n",
      "enter the element1 11\n",
      "enter the element2 22\n",
      "enter the element3 33\n",
      "enter the element4 44\n",
      "enter the element5 55\n"
     ]
    },
    {
     "name": "stdout",
     "output_type": "stream",
     "text": [
      "Double ll\n",
      "11<--->22<--->33<--->44<--->55<--->None\n"
     ]
    },
    {
     "name": "stdin",
     "output_type": "stream",
     "text": [
      "enter how many want to delete: 2\n"
     ]
    },
    {
     "name": "stdout",
     "output_type": "stream",
     "text": [
      "deleted:55\n",
      "Double ll\n",
      "11<--->22<--->33<--->44<--->None\n",
      "deleted:44\n",
      "Double ll\n",
      "11<--->22<--->33<--->None\n"
     ]
    }
   ],
   "source": [
    "'''insertion at end, delet at end'''\n",
    "class Node:\n",
    "    def __init__(self,data):\n",
    "        self.data=data\n",
    "        self.next=None\n",
    "        self.prev=None\n",
    "class Double_ll:\n",
    "    def __init__(self):\n",
    "        self.head=None\n",
    "    def iae(self,data):\n",
    "        nn=Node(data)\n",
    "        if self.head is None:\n",
    "            self.head=nn\n",
    "            return\n",
    "        current=self.head\n",
    "        while current.next:\n",
    "            current=current.next\n",
    "        current.next=nn\n",
    "        nn.prev=current\n",
    "    def dae(self):\n",
    "        if not self.head:\n",
    "            print(\"empty ll\")\n",
    "            return\n",
    "        current=self.head\n",
    "        while current.next:\n",
    "            current=current.next\n",
    "        print(f\"deleted:{current.data}\")\n",
    "        if current.prev:\n",
    "            current.prev.next=None\n",
    "        else:\n",
    "            self.head=None\n",
    "    def display(self):\n",
    "        current=self.head\n",
    "        print(\"Double ll\")\n",
    "        while current:\n",
    "            print(current.data,end=\"<--->\")\n",
    "            current=current.next\n",
    "        print(\"None\")\n",
    "dll=Double_ll()\n",
    "n=int(input(\"enter the no of elements:\"))\n",
    "for i in range(n):\n",
    "    val=int(input(f\"enter the element{i+1}\"))\n",
    "    dll.iae(val)\n",
    "dll.display()\n",
    "b=int(input(\"enter how many want to delete:\"))\n",
    "for j in range(b):\n",
    "    dll.dae()\n",
    "    dll.display()"
   ]
  },
  {
   "cell_type": "code",
   "execution_count": 39,
   "id": "343b0edf-548d-4e67-8401-cad90d7e3bd4",
   "metadata": {},
   "outputs": [
    {
     "name": "stdin",
     "output_type": "stream",
     "text": [
      "enter the no of elements: 5\n",
      "enter the element1 11\n",
      "enter the element2 22\n",
      "enter the element3 33\n",
      "enter the element4 44\n",
      "enter the element5 55\n"
     ]
    },
    {
     "name": "stdout",
     "output_type": "stream",
     "text": [
      "Double ll\n",
      "11<--->22<--->33<--->44<--->55<--->None\n"
     ]
    },
    {
     "name": "stdin",
     "output_type": "stream",
     "text": [
      "enter how many want to delete: 2\n"
     ]
    },
    {
     "name": "stdout",
     "output_type": "stream",
     "text": [
      "Deleted:11\n",
      "Double ll\n",
      "22<--->33<--->44<--->55<--->None\n",
      "Deleted:22\n",
      "Double ll\n",
      "33<--->44<--->55<--->None\n"
     ]
    }
   ],
   "source": [
    "'''insertion at end ,delete at begining'''\n",
    "class Node:\n",
    "    def __init__(self,data):\n",
    "        self.data=data\n",
    "        self.next=None\n",
    "        self.prev=None\n",
    "class Double_ll:\n",
    "    def __init__(self):\n",
    "        self.head=None\n",
    "    def iae(self,data):\n",
    "        nn=Node(data)\n",
    "        if self.head is None:\n",
    "            self.head=nn\n",
    "            return\n",
    "        current=self.head\n",
    "        while current.next:\n",
    "            current=current.next\n",
    "        current.next=nn\n",
    "        nn.prev=current\n",
    "    def dab(self):\n",
    "        if not self.head:\n",
    "            print(\"empty ll\")\n",
    "            return\n",
    "        print(f\"Deleted:{self.head.data}\")\n",
    "        self.head=self.head.next\n",
    "        if self.head:\n",
    "            self.head.prev=None\n",
    "    def display(self):\n",
    "        current=self.head\n",
    "        print(\"Double ll\")\n",
    "        while current:\n",
    "            print(current.data,end=\"<--->\")\n",
    "            current=current.next\n",
    "        print(\"None\")\n",
    "dll=Double_ll()\n",
    "n=int(input(\"enter the no of elements:\"))\n",
    "for i in range(n):\n",
    "    val=int(input(f\"enter the element{i+1}\"))\n",
    "    dll.iae(val)\n",
    "dll.display()\n",
    "b=int(input(\"enter how many want to delete:\"))\n",
    "for j in range(b):\n",
    "    dll.dab()\n",
    "    dll.display()"
   ]
  },
  {
   "cell_type": "code",
   "execution_count": 60,
   "id": "0c7cc736-5a74-4448-a963-5dc2d925fd44",
   "metadata": {},
   "outputs": [
    {
     "name": "stdin",
     "output_type": "stream",
     "text": [
      "enter the no of elements: 5\n",
      "enter the element1 11\n",
      "enter the element2 22\n",
      "enter the element3 33\n",
      "enter the element4 44\n",
      "enter the element5 55\n"
     ]
    },
    {
     "name": "stdout",
     "output_type": "stream",
     "text": [
      "Double ll\n",
      "55<--->44<--->33<--->22<--->11<--->None\n"
     ]
    },
    {
     "name": "stdin",
     "output_type": "stream",
     "text": [
      "enter element to delete: 3\n"
     ]
    },
    {
     "name": "stdout",
     "output_type": "stream",
     "text": [
      "element not found\n",
      "Double ll\n",
      "55<--->44<--->33<--->22<--->11<--->None\n"
     ]
    }
   ],
   "source": [
    "'''insertion at begining ,delete by value'''\n",
    "class Node:\n",
    "    def __init__(self,data):\n",
    "        self.data=data\n",
    "        self.next=None\n",
    "        self.prev=None\n",
    "class Double_ll:\n",
    "    def __init__(self):\n",
    "        self.head=None\n",
    "    def iab(self,data):\n",
    "        nn=Node(data)\n",
    "        nn.next=self.head\n",
    "        if self.head:\n",
    "            self.head.prev=nn\n",
    "        self.head=nn\n",
    "    def delete(self,val):\n",
    "        if not self.head:\n",
    "            print(\"empty Dll\")\n",
    "            return\n",
    "        current=self.head\n",
    "        while current.data!= val:\n",
    "            current=current.next\n",
    "            if current is None:\n",
    "                print(\"element not found\")\n",
    "                return\n",
    "        print(f\"deleted:{current.data}\")\n",
    "        current.prev.next=current.next\n",
    "        current.next.prev=current.prev\n",
    "    def display(self):\n",
    "        current=self.head\n",
    "        print(\"Double ll\")\n",
    "        while current:\n",
    "            print(current.data,end=\"<--->\")\n",
    "            current=current.next\n",
    "        print(\"None\")    \n",
    "dll=Double_ll()\n",
    "n=int(input(\"enter the no of elements:\"))\n",
    "for i in range(n):\n",
    "    val=int(input(f\"enter the element{i+1}\"))\n",
    "    dll.iab(val)\n",
    "dll.display()\n",
    "b=int(input(\"enter element to delete:\"))\n",
    "\n",
    "dll.delete(b)\n",
    "dll.display()"
   ]
  },
  {
   "cell_type": "code",
   "execution_count": null,
   "id": "06354999-33c2-4c4f-9d82-6e1013d1776a",
   "metadata": {},
   "outputs": [],
   "source": [
    "class Node:\n",
    "    def __init__(self,data):\n",
    "        self.data=data\n",
    "        self.next=None\n",
    "        self.prev=None\n",
    "class Double_ll:\n",
    "    def __init__(self):\n",
    "        self.head=None\n",
    "    def iae(self,data):\n",
    "        nn=Node(data)\n",
    "        if self.head is None:\n",
    "            self.head=nn\n",
    "            return\n",
    "        current=self.head\n",
    "        while current.next:\n",
    "            current=current.next\n",
    "        current.next=nn\n",
    "        nn.prev=current\n",
    "    def iab(self,data):\n",
    "        nn=Node(data)\n",
    "        nn.next=self.head\n",
    "        if self.head:\n",
    "            self.head.prev=nn\n",
    "        self.head=nn\n",
    "    def dab(self):\n",
    "        if not self.head:\n",
    "            print(\"empty ll\")\n",
    "            return\n",
    "        print(f\"Deleted:{self.head.data}\")\n",
    "        self.head=self.head.next\n",
    "        if self.head:\n",
    "            self.head.prev=None\n",
    "    def dae(self):\n",
    "        if not self.head:\n",
    "            print(\"empty ll\")\n",
    "            return\n",
    "        current=self.head\n",
    "        while current.next:\n",
    "            current=current.next\n",
    "        print(f\"deleted:{current.data}\")\n",
    "        if current.prev:\n",
    "            current.prev.next=None\n",
    "        else:\n",
    "            self.head=None\n",
    "    def delete(self,val):\n",
    "        if not self.head:\n",
    "            print(\"empty Dll\")\n",
    "            return\n",
    "        current=self.head\n",
    "        while current.data!= val:\n",
    "            current=current.next\n",
    "            if current is None:\n",
    "                print(\"element not found\")\n",
    "                return\n",
    "        print(f\"deleted:{current.data}\")\n",
    "        current.prev.next=current.next\n",
    "        current.next.prev=current.prev\n",
    "    def backtraverse(self):\n",
    "        print(\"values for traversing backward...\")\n",
    "        current=self.head\n",
    "        if not current:\n",
    "            print(\"empty ll\")\n",
    "            return\n",
    "        while current.next:\n",
    "            current=current.next\n",
    "        while current:\n",
    "            print(current.data,end=\"<--->\")\n",
    "            current=current.prev\n",
    "        print(\"None\")\n",
    "    def display(self):\n",
    "        current=self.head\n",
    "        print(\"Double ll\")\n",
    "        while current:\n",
    "            print(current.data,end=\"<--->\")\n",
    "            current=current.next\n",
    "        print(\"None\")\n",
    "dll=Double_ll()\n",
    "print(\"DOULE LINKED LIST\")\n",
    "while True:\n",
    "    print(\"1.insertion at end\\n2.insertion at begining\\n3.delete at begining\\n4.delete at end\\n5.delete by value\\n6.backward traveral\\n7.display\\n8.exit\")\n",
    "    n=int(input(\"enter the choice:\"))\n",
    "    if n==1:\n",
    "        data=int(input(\"enter the element:\"))\n",
    "        dll.iae(data)\n",
    "    elif n==2:\n",
    "        data=int(input(\"enter the element:\"))\n",
    "        dll.iab(data)\n",
    "    elif n==3:\n",
    "        dll.dab()\n",
    "    elif n==4:\n",
    "        dll.iae()\n",
    "    elif n==5:\n",
    "        val=int(input(\"enter the element to delete:\"))\n",
    "        dll.delete(val)\n",
    "    elif n==6:\n",
    "        dll.backtaraverse()\n",
    "    elif n==7:\n",
    "        dll.display()\n",
    "    else:\n",
    "        print(\"operations are exited....\")\n",
    "        break"
   ]
  },
  {
   "cell_type": "code",
   "execution_count": null,
   "id": "2e0bbed6-49d5-4fdf-9327-ee507bf4835c",
   "metadata": {},
   "outputs": [],
   "source": [
    "'''code to chc the duplicates in a dll and print the count of frequency'''\n",
    "class Node:\n",
    "    def __init__(self,data):\n",
    "        self.data=data\n",
    "        self.next=None\n",
    "        self.prev=None\n",
    "class Double_LL:\n",
    "    def __init__(self):\n",
    "        self.head=None\n",
    "    def iae(self,data):\n",
    "        nn=Node(data)\n",
    "        if self.head is None:\n",
    "            self.head=nn\n",
    "        current=self.head\n",
    "        while current.next:\n",
    "            current=current.next\n",
    "        current.next=nn\n",
    "        nn.prev=current\n",
    "    def frequency(self):\n",
    "        if self.head is None:\n",
    "            print(\"empty Dll\")\n",
    "        while current.next:"
   ]
  }
 ],
 "metadata": {
  "kernelspec": {
   "display_name": "Python 3 (ipykernel)",
   "language": "python",
   "name": "python3"
  },
  "language_info": {
   "codemirror_mode": {
    "name": "ipython",
    "version": 3
   },
   "file_extension": ".py",
   "mimetype": "text/x-python",
   "name": "python",
   "nbconvert_exporter": "python",
   "pygments_lexer": "ipython3",
   "version": "3.12.7"
  }
 },
 "nbformat": 4,
 "nbformat_minor": 5
}
