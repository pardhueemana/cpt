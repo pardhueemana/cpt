{
 "cells": [
  {
   "cell_type": "code",
   "execution_count": null,
   "id": "a23e6e3a-6efc-43c8-9ad0-0c9cbc6ad959",
   "metadata": {},
   "outputs": [
    {
     "name": "stdin",
     "output_type": "stream",
     "text": [
      " 20 10 30 40 50\n"
     ]
    },
    {
     "name": "stdout",
     "output_type": "stream",
     "text": [
      "DOUBLE LINKED LIST\n",
      "1.IAB\n",
      "2.IAE\n",
      "3.IAP\n",
      "4.Display\n",
      "5.Delete\n",
      "6.Search\n"
     ]
    },
    {
     "name": "stdin",
     "output_type": "stream",
     "text": [
      "Enter ur option :  6\n",
      "Enter the data :  40\n"
     ]
    },
    {
     "name": "stdout",
     "output_type": "stream",
     "text": [
      "40 found at position 4\n",
      "DOUBLE LINKED LIST\n",
      "1.IAB\n",
      "2.IAE\n",
      "3.IAP\n",
      "4.Display\n",
      "5.Delete\n",
      "6.Search\n"
     ]
    },
    {
     "name": "stdin",
     "output_type": "stream",
     "text": [
      "Enter ur option :  5\n",
      "Enter the data :  30\n"
     ]
    },
    {
     "name": "stdout",
     "output_type": "stream",
     "text": [
      "30 is deleted....\n",
      "DOUBLE LINKED LIST\n",
      "1.IAB\n",
      "2.IAE\n",
      "3.IAP\n",
      "4.Display\n",
      "5.Delete\n",
      "6.Search\n"
     ]
    },
    {
     "name": "stdin",
     "output_type": "stream",
     "text": [
      "Enter ur option :  4\n"
     ]
    },
    {
     "name": "stdout",
     "output_type": "stream",
     "text": [
      "20<-->10<-->40<-->50<-->None\n",
      "DOUBLE LINKED LIST\n",
      "1.IAB\n",
      "2.IAE\n",
      "3.IAP\n",
      "4.Display\n",
      "5.Delete\n",
      "6.Search\n"
     ]
    }
   ],
   "source": [
    "'''\n",
    "Double Linked List:\n",
    "\n",
    "opreations:\n",
    "1. Insertion\n",
    "2. Deletion\n",
    "3. Traversal\n",
    "\n",
    "head<-->node1<-->node2<-->...<-->null\n",
    "'''\n",
    "\n",
    "class Node:\n",
    "    def __init__(self, data):\n",
    "        self.data = data\n",
    "        self.prev = None\n",
    "        self.next = None\n",
    "\n",
    "class DoubleLL:\n",
    "    def __init__(self):\n",
    "        self.head = None\n",
    "    def iab(self, data):\n",
    "        newNode = Node(data)\n",
    "        if self.head is None:\n",
    "            newNode.next = self.head\n",
    "            self.head = newNode\n",
    "            return\n",
    "        self.head.prev = newNode\n",
    "        newNode.next = self.head\n",
    "        self.head = newNode\n",
    "        \n",
    "    def iae(self, data):\n",
    "        newNode = Node(data)\n",
    "        if not self.head:\n",
    "            self.head = newNode\n",
    "            return\n",
    "        current = self.head\n",
    "        while current.next:\n",
    "            current = current.next\n",
    "        current.next = newNode\n",
    "        newNode.prev = current\n",
    "    \n",
    "    def iap(self, data, p):\n",
    "        newNode = Node(data)\n",
    "        if not self.head:\n",
    "            self.head = newNode\n",
    "            print(\"The dll is empty so the given node is set as initial\")\n",
    "            return\n",
    "        current = self.head\n",
    "        if p == 1:\n",
    "            newNode.next = self.head\n",
    "            if self.head:\n",
    "                self.head.prev = newNode\n",
    "            self.head = newNode\n",
    "        c = 1\n",
    "        while c!=p-1:\n",
    "            if not current:\n",
    "                print(\"out of order\")\n",
    "                print(\"The total no.of positions are :\",c)\n",
    "                return\n",
    "            current = current.next\n",
    "            c += 1\n",
    "        newNode.prev = current\n",
    "        newNode.next = current.next\n",
    "        current.next.prev = newNode\n",
    "        current.next = newNode\n",
    "        \n",
    "    def delete(self, data):\n",
    "        current = self.head\n",
    "        if not current:\n",
    "            print(\"Empty dll....\")\n",
    "            return\n",
    "        while current.data != data:\n",
    "            if current is None:\n",
    "                print(\"Data Not Present in the DLL\")\n",
    "                return\n",
    "            current = current.next\n",
    "        current.prev.next = current.next\n",
    "        current.next.prev = current.prev\n",
    "        print(f\"{data} is deleted....\")\n",
    "\n",
    "    def search(self, data):\n",
    "        current = self.head\n",
    "        if not current:\n",
    "            print(\"Empty dll....\")\n",
    "            return\n",
    "        c = 1\n",
    "        while current.data != data:\n",
    "            if current is None:\n",
    "                print(\"Data Not Present in the DLL\")\n",
    "                return\n",
    "            current = current.next\n",
    "            c += 1\n",
    "        else:\n",
    "            print(f\"{data} found at position {c}\")\n",
    "    \n",
    "    def display(self):\n",
    "        if not self.head:\n",
    "            print(\"DLL is Empty.\")\n",
    "        current = self.head\n",
    "        while current:\n",
    "            print(f\"{current.data}\",end=\"<-->\")\n",
    "            current = current.next\n",
    "        print(\"None\")\n",
    "\n",
    "lis = list(map(int, input().split()))\n",
    "dll = DoubleLL()\n",
    "for _ in lis:\n",
    "    dll.iae(_)\n",
    "while True:\n",
    "    print(\"DOUBLE LINKED LIST\")\n",
    "    print(\"1.IAB\\n2.IAE\\n3.IAP\\n4.Display\\n5.Delete\\n6.Search\")\n",
    "    ch = int(input(\"Enter ur option : \"))\n",
    "    if ch == 1:\n",
    "        data = int(input(\"at begining : \"))\n",
    "        dll.iab(data)\n",
    "    elif ch == 2:\n",
    "        data = int(input(\"at Ending : \"))\n",
    "        dll.iae(data)\n",
    "    elif ch == 3:\n",
    "        data = int(input(\"Enter the data : \"))\n",
    "        p = int(input(\"Enter the position : \"))\n",
    "        dll.iap(data, p)\n",
    "    elif ch == 4:\n",
    "        dll.display()\n",
    "    elif ch == 5:\n",
    "        data = int(input(\"Enter the data : \"))\n",
    "        dll.delete(data)\n",
    "    elif ch == 6:\n",
    "        data = int(input(\"Enter the data : \"))\n",
    "        dll.search(data)\n",
    "    else:\n",
    "        print(\"Exited....\")\n",
    "        break"
   ]
  },
  {
   "cell_type": "code",
   "execution_count": null,
   "id": "9248ff3a-703e-4eb4-aabd-916934c1df01",
   "metadata": {},
   "outputs": [],
   "source": [
    "def search(self, data):\n",
    "    current = self.head\n",
    "    if not current:\n",
    "        print(\"Empty dll....\")\n",
    "        return\n",
    "    c = 1\n",
    "    while current.data != data:\n",
    "        if current is None:\n",
    "            print(\"Data Not Present in the DLL\")\n",
    "            return\n",
    "        current = current.next\n",
    "        c += 1\n",
    "    else:\n",
    "        print(f\"{data} found at position {c}\")"
   ]
  }
 ],
 "metadata": {
  "kernelspec": {
   "display_name": "Python 3 (ipykernel)",
   "language": "python",
   "name": "python3"
  },
  "language_info": {
   "codemirror_mode": {
    "name": "ipython",
    "version": 3
   },
   "file_extension": ".py",
   "mimetype": "text/x-python",
   "name": "python",
   "nbconvert_exporter": "python",
   "pygments_lexer": "ipython3",
   "version": "3.12.7"
  }
 },
 "nbformat": 4,
 "nbformat_minor": 5
}
