{
 "cells": [
  {
   "cell_type": "code",
   "execution_count": 11,
   "id": "4a2278c3-1adb-4fc3-a54f-940b001f46e3",
   "metadata": {},
   "outputs": [
    {
     "name": "stdout",
     "output_type": "stream",
     "text": [
      "10 20 25 30 40 50 [10, 20, 25, 40, 50]\n",
      "True\n"
     ]
    }
   ],
   "source": [
    "'''array operations\n",
    "# program to consider a list arr=[10,20,20,30,40] and perform insert operation with 50 and 25 at position 2 respectively ,delect the 30 and treverse and find 25 is present or not'''\n",
    "arr=[10,20,30, 40]\n",
    "#insert\n",
    "arr.append(50)\n",
    "#insert at index 2\n",
    "arr.insert(2,25)\n",
    "#print\n",
    "for i in arr:\n",
    "    print(i,end=' ')\n",
    "#delete\n",
    "arr.remove(30)\n",
    "print(arr)\n",
    "print(True if 25 in arr else False)"
   ]
  },
  {
   "cell_type": "code",
   "execution_count": 1,
   "id": "5d60e1a2-da91-47eb-876f-7ee6ea4b1600",
   "metadata": {},
   "outputs": [
    {
     "name": "stdin",
     "output_type": "stream",
     "text": [
      "enter the string: malayalam\n"
     ]
    },
    {
     "name": "stdout",
     "output_type": "stream",
     "text": [
      "Palindrome\n",
      "{'m': 2, 'a': 4, 'l': 2, 'y': 1}\n"
     ]
    }
   ],
   "source": [
    "'''program to check whether the given string is palindrom or not and count which character is repeated '''\n",
    "a=input(\"enter the string:\")\n",
    "if a==a[::-1]:\n",
    "    print(\"Palindrome\")\n",
    "else:\n",
    "    print(\"Not\")\n",
    "p={}\n",
    "for i in a:\n",
    "    p[i]=p.get(i,0)+1\n",
    "print(p)"
   ]
  },
  {
   "cell_type": "code",
   "execution_count": 3,
   "id": "a67293ad-41ff-4b90-a186-6dd7c522b686",
   "metadata": {},
   "outputs": [
    {
     "data": {
      "text/plain": [
       "'searchings\\nlinear \\nbinary\\nsentinel search\\nfibonacci search\\ninterpolation search\\n'"
      ]
     },
     "execution_count": 3,
     "metadata": {},
     "output_type": "execute_result"
    }
   ],
   "source": [
    "'''searchings\n",
    "linear \n",
    "binary\n",
    "sentinel search\n",
    "fibonacci search\n",
    "interpolation search\n",
    "'''"
   ]
  },
  {
   "cell_type": "code",
   "execution_count": 5,
   "id": "66059cea-d121-461f-b873-b9ff6ee36b13",
   "metadata": {},
   "outputs": [
    {
     "name": "stdin",
     "output_type": "stream",
     "text": [
      "enter the size: 5\n"
     ]
    },
    {
     "name": "stdout",
     "output_type": "stream",
     "text": [
      "enter the elements\n"
     ]
    },
    {
     "name": "stdin",
     "output_type": "stream",
     "text": [
      "Element 1: 11\n",
      "Element 2: 22\n",
      "Element 3: 33\n",
      "Element 4: 44\n",
      "Element 5: 55\n",
      "enter the element to search: 44\n"
     ]
    },
    {
     "name": "stdout",
     "output_type": "stream",
     "text": [
      "\n",
      " element 44 found at 4 index\n"
     ]
    }
   ],
   "source": [
    "def linear_search(arr,key):\n",
    "    for i in range(len(arr)):\n",
    "        if arr[i]==key:\n",
    "            return i\n",
    "    return -1\n",
    "s=int(input(\"enter the size:\"))\n",
    "arr=[]\n",
    "print(\"enter the elements\")\n",
    "for i in range(s):\n",
    "    num= int(input(f'Element {i+1}:'))\n",
    "    arr.append(num)\n",
    "key = int(input(\"enter the element to search:\"))\n",
    "res=linear_search(arr,key)\n",
    "if res !=-1:\n",
    "    print(f\"\\n element {key} found at {i} index\")\n",
    "else:\n",
    "    print(f\"\\n element {key} not found\")"
   ]
  },
  {
   "cell_type": "code",
   "execution_count": 67,
   "id": "e5a7733d-7b6c-42b3-9cfd-7b39ee9e7ead",
   "metadata": {},
   "outputs": [
    {
     "name": "stdin",
     "output_type": "stream",
     "text": [
      "enter the elements : 11 22 33 44 55\n",
      "enter the element to search: 44\n"
     ]
    },
    {
     "name": "stdout",
     "output_type": "stream",
     "text": [
      "44\n",
      "\n",
      " element 44 found at 3 index\n"
     ]
    }
   ],
   "source": [
    "def linear_search(arr,key):\n",
    "    for abc in range(len(arr)):\n",
    "        if arr[abc]==key:\n",
    "            print(arr[abc])\n",
    "           \n",
    "            return abc\n",
    "            \n",
    "    return -1\n",
    "arr=list(map(int ,input(\"enter the elements :\").split()))\n",
    "key = int(input(\"enter the element to search:\"))\n",
    "res=linear_search(arr,key)\n",
    "\n",
    "if res != -1:\n",
    "    print(f\"\\n element {key} found at {res} index\")\n",
    "else:\n",
    "    print(f\"\\n element {key} not found\")"
   ]
  },
  {
   "cell_type": "code",
   "execution_count": null,
   "id": "240a347c-8770-4ed9-a587-a14878dda700",
   "metadata": {},
   "outputs": [],
   "source": [
    "def binary_search(arr,key):\n",
    "    l=0\n",
    "    h=len(arr)-1\n",
    "    while l<=h:\n",
    "        mid=(l+h)//2\n",
    "        if arr[mid]==key:\n",
    "            return mid\n",
    "        elif arr[mid]<key:\n",
    "            h=mid-1\n",
    "        else :\n",
    "            "
   ]
  }
 ],
 "metadata": {
  "kernelspec": {
   "display_name": "Python 3 (ipykernel)",
   "language": "python",
   "name": "python3"
  },
  "language_info": {
   "codemirror_mode": {
    "name": "ipython",
    "version": 3
   },
   "file_extension": ".py",
   "mimetype": "text/x-python",
   "name": "python",
   "nbconvert_exporter": "python",
   "pygments_lexer": "ipython3",
   "version": "3.12.7"
  }
 },
 "nbformat": 4,
 "nbformat_minor": 5
}
