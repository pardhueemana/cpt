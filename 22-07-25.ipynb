{
 "cells": [
  {
   "cell_type": "code",
   "execution_count": null,
   "id": "d3756ef3-7df0-446e-beb9-72a98936d33e",
   "metadata": {},
   "outputs": [],
   "source": [
    "'''\n",
    "linked list:\n",
    "1) non contagious ds\n",
    "2) memory allocate\n",
    "3) access\n",
    " types:\n",
    " 1. single LL\n",
    " 2. double LL\n",
    " 3. circule s/d LL\n",
    " \n",
    "'''"
   ]
  },
  {
   "cell_type": "code",
   "execution_count": 31,
   "id": "f7427713-2ab5-4e18-b653-0d5f534c3f3e",
   "metadata": {},
   "outputs": [
    {
     "name": "stdout",
     "output_type": "stream",
     "text": [
      "\n",
      " linked list : insert at begining\n",
      "1. Insert \n",
      " 2. Display \n",
      " 3. Exit\n"
     ]
    },
    {
     "name": "stdin",
     "output_type": "stream",
     "text": [
      "enter the choice 1\n",
      "enter the element to insert: 22\n"
     ]
    },
    {
     "name": "stdout",
     "output_type": "stream",
     "text": [
      "22 is inserted from begining\n",
      "\n",
      " linked list : insert at begining\n",
      "1. Insert \n",
      " 2. Display \n",
      " 3. Exit\n"
     ]
    },
    {
     "name": "stdin",
     "output_type": "stream",
     "text": [
      "enter the choice 1\n",
      "enter the element to insert: 55\n"
     ]
    },
    {
     "name": "stdout",
     "output_type": "stream",
     "text": [
      "55 is inserted from begining\n",
      "\n",
      " linked list : insert at begining\n",
      "1. Insert \n",
      " 2. Display \n",
      " 3. Exit\n"
     ]
    },
    {
     "name": "stdin",
     "output_type": "stream",
     "text": [
      "enter the choice 1\n",
      "enter the element to insert: 66\n"
     ]
    },
    {
     "name": "stdout",
     "output_type": "stream",
     "text": [
      "66 is inserted from begining\n",
      "\n",
      " linked list : insert at begining\n",
      "1. Insert \n",
      " 2. Display \n",
      " 3. Exit\n"
     ]
    },
    {
     "name": "stdin",
     "output_type": "stream",
     "text": [
      "enter the choice 2\n"
     ]
    },
    {
     "name": "stdout",
     "output_type": "stream",
     "text": [
      "66->55->22->none\n",
      "\n",
      " linked list : insert at begining\n",
      "1. Insert \n",
      " 2. Display \n",
      " 3. Exit\n"
     ]
    },
    {
     "name": "stdin",
     "output_type": "stream",
     "text": [
      "enter the choice 3\n"
     ]
    },
    {
     "name": "stdout",
     "output_type": "stream",
     "text": [
      "the operation exited\n"
     ]
    }
   ],
   "source": [
    "'insert at the begin'\n",
    "class Node:\n",
    "    def __init__(self,data):\n",
    "        self.data=data\n",
    "        self.next=None\n",
    "class Linked_list:\n",
    "    def __init__(self):\n",
    "        self.head=None\n",
    "    def iab(self,data):\n",
    "        newnode=Node(data)\n",
    "        newnode.next=self.head\n",
    "        self.head=newnode\n",
    "        print(f\"{data} is inserted from begining\")\n",
    "    def display(self):\n",
    "        current=self.head\n",
    "        if not current:\n",
    "            print(\"ll is empty\")\n",
    "        while current:\n",
    "            print(current.data,end='->')\n",
    "            current=current.next\n",
    "        print(\"none\")\n",
    "ll=Linked_list()\n",
    "while True:\n",
    "    print(\"\\n linked list : insert at begining\")\n",
    "    print(\"1. Insert \\n 2. Display \\n 3. Exit\")\n",
    "    choose=int(input(\"enter the choice\"))\n",
    "    if choose==1:\n",
    "        data=int(input(\"enter the element to insert:\"))\n",
    "        ll.iab(data)\n",
    "    elif choose==2:\n",
    "        ll.display()\n",
    "    elif choose==3:\n",
    "        print(\"the operation exited\")\n",
    "        break\n",
    "    else:\n",
    "        print(\"invalid option\")\n",
    "        "
   ]
  },
  {
   "cell_type": "code",
   "execution_count": 21,
   "id": "46ea9827-0659-4877-b1ae-280650af3528",
   "metadata": {},
   "outputs": [
    {
     "name": "stdout",
     "output_type": "stream",
     "text": [
      "\n",
      " linked list : insert at begining\n",
      "1. Insert \n",
      " 2. Display \n",
      " 3. Exit\n"
     ]
    },
    {
     "name": "stdin",
     "output_type": "stream",
     "text": [
      "enter the choice 1\n",
      "enter the element to insert: 11\n"
     ]
    },
    {
     "name": "stdout",
     "output_type": "stream",
     "text": [
      "11inserted at end\n",
      "\n",
      " linked list : insert at begining\n",
      "1. Insert \n",
      " 2. Display \n",
      " 3. Exit\n"
     ]
    },
    {
     "name": "stdin",
     "output_type": "stream",
     "text": [
      "enter the choice 1\n",
      "enter the element to insert: 33\n"
     ]
    },
    {
     "name": "stdout",
     "output_type": "stream",
     "text": [
      "33 insterted at last\n",
      "\n",
      " linked list : insert at begining\n",
      "1. Insert \n",
      " 2. Display \n",
      " 3. Exit\n"
     ]
    },
    {
     "name": "stdin",
     "output_type": "stream",
     "text": [
      "enter the choice 1\n",
      "enter the element to insert: 66\n"
     ]
    },
    {
     "name": "stdout",
     "output_type": "stream",
     "text": [
      "66 insterted at last\n",
      "\n",
      " linked list : insert at begining\n",
      "1. Insert \n",
      " 2. Display \n",
      " 3. Exit\n"
     ]
    },
    {
     "name": "stdin",
     "output_type": "stream",
     "text": [
      "enter the choice 2\n"
     ]
    },
    {
     "name": "stdout",
     "output_type": "stream",
     "text": [
      "11->33->66->none\n",
      "\n",
      " linked list : insert at begining\n",
      "1. Insert \n",
      " 2. Display \n",
      " 3. Exit\n"
     ]
    },
    {
     "name": "stdin",
     "output_type": "stream",
     "text": [
      "enter the choice 3\n"
     ]
    },
    {
     "name": "stdout",
     "output_type": "stream",
     "text": [
      "the operation exited\n"
     ]
    }
   ],
   "source": [
    "'insert at end'\n",
    "class Node:\n",
    "    def __init__(self,data):\n",
    "        self.data=data\n",
    "        self.next=None\n",
    "class Linked_list:\n",
    "    def __init__(self):\n",
    "        self.head=None\n",
    "    def iae(self,data):\n",
    "        newnode=Node(data)\n",
    "        if self.head is None:\n",
    "            self.head=newnode\n",
    "            print(f\"{data}inserted at end\")\n",
    "            return\n",
    "        current=self.head\n",
    "        while current.next:\n",
    "            current=current.next\n",
    "        current.next=newnode\n",
    "        print(f\"{data} insterted at last\")\n",
    "    def display(self):\n",
    "        current=self.head\n",
    "        if not current:\n",
    "            print(\"ll is empty\")\n",
    "        while current:\n",
    "            print(current.data,end='->')\n",
    "            current=current.next\n",
    "        print(\"none\")\n",
    "ll=Linked_list()\n",
    "while True:\n",
    "    print(\"\\n linked list : insert at begining\")\n",
    "    print(\"1. Insert \\n 2. Display \\n 3. Exit\")\n",
    "    choose=int(input(\"enter the choice\"))\n",
    "    if choose==1:\n",
    "        data=int(input(\"enter the element to insert:\"))\n",
    "        ll.iae(data)\n",
    "    elif choose==2:\n",
    "        ll.display()\n",
    "    elif choose==3:\n",
    "        print(\"the operation exited\")\n",
    "        break\n",
    "    else:\n",
    "        print(\"invalid option\")\n",
    "        "
   ]
  },
  {
   "cell_type": "code",
   "execution_count": 25,
   "id": "b15c8f2f-f913-4f8a-9c2e-b895877178b5",
   "metadata": {},
   "outputs": [
    {
     "name": "stdout",
     "output_type": "stream",
     "text": [
      "\n",
      " linked list : insert at begining\n",
      "1. Insert \n",
      " 2. Display \n",
      " 3. Exit\n"
     ]
    },
    {
     "name": "stdin",
     "output_type": "stream",
     "text": [
      "enter the choice 1\n",
      "enter the element to insert: 2\n",
      "enter the position 1\n"
     ]
    },
    {
     "name": "stdout",
     "output_type": "stream",
     "text": [
      "2inserted at position\n",
      "\n",
      " linked list : insert at begining\n",
      "1. Insert \n",
      " 2. Display \n",
      " 3. Exit\n"
     ]
    },
    {
     "name": "stdin",
     "output_type": "stream",
     "text": [
      "enter the choice 1\n",
      "enter the element to insert: 55\n",
      "enter the position 2\n"
     ]
    },
    {
     "name": "stdout",
     "output_type": "stream",
     "text": [
      "55 inserted at position2\n",
      "\n",
      " linked list : insert at begining\n",
      "1. Insert \n",
      " 2. Display \n",
      " 3. Exit\n"
     ]
    },
    {
     "name": "stdin",
     "output_type": "stream",
     "text": [
      "enter the choice 1\n",
      "enter the element to insert: 44\n",
      "enter the position 2\n"
     ]
    },
    {
     "name": "stdout",
     "output_type": "stream",
     "text": [
      "44 inserted at position2\n",
      "\n",
      " linked list : insert at begining\n",
      "1. Insert \n",
      " 2. Display \n",
      " 3. Exit\n"
     ]
    },
    {
     "name": "stdin",
     "output_type": "stream",
     "text": [
      "enter the choice 2\n"
     ]
    },
    {
     "name": "stdout",
     "output_type": "stream",
     "text": [
      "2->44->55->none\n",
      "\n",
      " linked list : insert at begining\n",
      "1. Insert \n",
      " 2. Display \n",
      " 3. Exit\n"
     ]
    },
    {
     "name": "stdin",
     "output_type": "stream",
     "text": [
      "enter the choice 3\n"
     ]
    },
    {
     "name": "stdout",
     "output_type": "stream",
     "text": [
      "the operation exited\n"
     ]
    }
   ],
   "source": [
    "'insert at position'\n",
    "class Node:\n",
    "    def __init__(self,data):\n",
    "        self.data=data\n",
    "        self.next=None\n",
    "class Linked_list:\n",
    "    def __init__(self):\n",
    "        self.head=None\n",
    "    def iap(self,data,pos):\n",
    "        newnode=Node(data)\n",
    "        if pos<=0:\n",
    "            print(\"position min>=1\")\n",
    "            return\n",
    "        if pos==1:\n",
    "            newnode.next==self.head\n",
    "            self.head=newnode\n",
    "            print(f\"{data}inserted at position\")\n",
    "            return\n",
    "        current=self.head\n",
    "        c=1\n",
    "        while current and c<pos-1:\n",
    "            current=current.next\n",
    "            c+=1\n",
    "        if not current:\n",
    "            print(\"not in range\")\n",
    "            return\n",
    "        newnode.next=current.next\n",
    "        current.next=newnode\n",
    "        print(f\"{data} inserted at position{pos}\")\n",
    "        \n",
    "    def display(self):\n",
    "        current=self.head\n",
    "        if not current:\n",
    "            print(\"ll is empty\")\n",
    "        while current:\n",
    "            print(current.data,end='->')\n",
    "            current=current.next\n",
    "        print(\"none\")\n",
    "ll=Linked_list()\n",
    "while True:\n",
    "    print(\"\\n linked list : insert at begining\")\n",
    "    print(\"1. Insert \\n 2. Display \\n 3. Exit\")\n",
    "    choose=int(input(\"enter the choice\"))\n",
    "    if choose==1:\n",
    "        data=int(input(\"enter the element to insert:\"))\n",
    "        pos=int(input(\"enter the position\"))\n",
    "        ll.iap(data,pos)\n",
    "    elif choose==2:\n",
    "        ll.display()\n",
    "    elif choose==3:\n",
    "        print(\"the operation exited\")\n",
    "        break\n",
    "    else:\n",
    "        print(\"invalid option\")"
   ]
  },
  {
   "cell_type": "code",
   "execution_count": null,
   "id": "a48c74cf-56db-469b-9905-083b745213ea",
   "metadata": {},
   "outputs": [
    {
     "name": "stdout",
     "output_type": "stream",
     "text": [
      "\n",
      " linked list : insert at ending\n",
      "1. Insertatbegning\n",
      " 2.Insertatend \n",
      " 3. Insert at position\n",
      " 4.search \n",
      " 5.display\n",
      " 6. exit\n"
     ]
    },
    {
     "name": "stdin",
     "output_type": "stream",
     "text": [
      "enter the choice 1\n",
      "enter the element to insert: 22\n"
     ]
    },
    {
     "name": "stdout",
     "output_type": "stream",
     "text": [
      "22 is inserted from begining\n",
      "\n",
      " linked list : insert at ending\n",
      "1. Insertatbegning\n",
      " 2.Insertatend \n",
      " 3. Insert at position\n",
      " 4.search \n",
      " 5.display\n",
      " 6. exit\n"
     ]
    },
    {
     "name": "stdin",
     "output_type": "stream",
     "text": [
      "enter the choice 1\n",
      "enter the element to insert: 33\n"
     ]
    },
    {
     "name": "stdout",
     "output_type": "stream",
     "text": [
      "33 is inserted from begining\n",
      "\n",
      " linked list : insert at ending\n",
      "1. Insertatbegning\n",
      " 2.Insertatend \n",
      " 3. Insert at position\n",
      " 4.search \n",
      " 5.display\n",
      " 6. exit\n"
     ]
    },
    {
     "name": "stdin",
     "output_type": "stream",
     "text": [
      "enter the choice 1\n",
      "enter the element to insert: 44\n"
     ]
    },
    {
     "name": "stdout",
     "output_type": "stream",
     "text": [
      "44 is inserted from begining\n",
      "\n",
      " linked list : insert at ending\n",
      "1. Insertatbegning\n",
      " 2.Insertatend \n",
      " 3. Insert at position\n",
      " 4.search \n",
      " 5.display\n",
      " 6. exit\n"
     ]
    },
    {
     "name": "stdin",
     "output_type": "stream",
     "text": [
      "enter the choice 2\n",
      "enter the element to insert: 99\n"
     ]
    },
    {
     "name": "stdout",
     "output_type": "stream",
     "text": [
      "99 insterted at last\n",
      "\n",
      " linked list : insert at ending\n",
      "1. Insertatbegning\n",
      " 2.Insertatend \n",
      " 3. Insert at position\n",
      " 4.search \n",
      " 5.display\n",
      " 6. exit\n"
     ]
    },
    {
     "name": "stdin",
     "output_type": "stream",
     "text": [
      "enter the choice 2\n",
      "enter the element to insert: 99\n"
     ]
    },
    {
     "name": "stdout",
     "output_type": "stream",
     "text": [
      "99 insterted at last\n",
      "\n",
      " linked list : insert at ending\n",
      "1. Insertatbegning\n",
      " 2.Insertatend \n",
      " 3. Insert at position\n",
      " 4.search \n",
      " 5.display\n",
      " 6. exit\n"
     ]
    }
   ],
   "source": [
    "'all the operations on linked list'\n",
    "class Node:\n",
    "    def __init__(self,data):\n",
    "        self.data=data\n",
    "        self.next=None\n",
    "class Linked_list:\n",
    "    def __init__(self):\n",
    "        self.head=None\n",
    "    def iab(self,data):\n",
    "        newnode=Node(data)\n",
    "        newnode.next=self.head\n",
    "        self.head=newnode\n",
    "        print(f\"{data} is inserted from begining\")\n",
    "    def iae(self,data):\n",
    "        newnode=Node(data)\n",
    "        if self.head is None:\n",
    "            self.head=newnode\n",
    "            print(f\"{data}inserted at end\")\n",
    "            return\n",
    "        current=self.head\n",
    "        while current.next:\n",
    "            current=current.next\n",
    "        current.next=newnode\n",
    "        print(f\"{data} insterted at last\")\n",
    "    def iap(self,data,pos):\n",
    "        newnode=Node(data)\n",
    "        if pos<=0:\n",
    "            print(\"position min>=1\")\n",
    "            return\n",
    "        if pos==1:\n",
    "            newnode.next==self.head\n",
    "            self.head=newnode\n",
    "            print(f\"{data}inserted at position\")\n",
    "            return\n",
    "        current=self.head\n",
    "        c=1\n",
    "        while current and c<pos-1:\n",
    "            current=current.next\n",
    "            c+=1\n",
    "        if not current:\n",
    "            print(\"not in range\")\n",
    "            return\n",
    "        newnode.next=current.next\n",
    "        current.next=newnode\n",
    "        print(f\"{data} inserted at position{pos}\")\n",
    "    def search(self,key):\n",
    "        pos=1\n",
    "        current=self.head\n",
    "        while current:\n",
    "            if current.data==key:\n",
    "                print(f\"{key} element found in ll\")\n",
    "                return True\n",
    "            current=current.next\n",
    "            pos=+1\n",
    "            print(f\"{key} element not found\")\n",
    "    def display(self):\n",
    "        current=self.head\n",
    "        if not current:\n",
    "            print(\"ll is empty\")\n",
    "        while current:\n",
    "            print(current.data,end='->')\n",
    "            current=current.next\n",
    "        print(\"none\")\n",
    "ll=Linked_list()\n",
    "while True:\n",
    "    print(\"\\n linked list : insert at ending\")\n",
    "    print(\"1. Insertatbegning\\n 2.Insertatend \\n 3. Insert at position\\n 4.search \\n 5.display\\n 6. exit\")\n",
    "    choose=int(input(\"enter the choice\"))\n",
    "    if choose==1:\n",
    "        data=int(input(\"enter the element to insert:\"))\n",
    "        ll.iab(data)\n",
    "    elif choose==2:\n",
    "        data=int(input(\"enter the element to insert:\"))\n",
    "        ll.iae(data)\n",
    "    elif choose==3:\n",
    "        data=int(input(\"enter the data\"))\n",
    "        pos=int(input(\"enter the position\"))\n",
    "        ll.iap(data,pos)\n",
    "    elif choose==4:\n",
    "        key=int(input(\"enter the element\"))\n",
    "        ll.search(key)\n",
    "    elif choose==5:\n",
    "        ll.display()\n",
    "    elif choose==6:\n",
    "        print(\"the operation exited\")\n",
    "        break\n",
    "    else:\n",
    "        print(\"invalid option\")\n",
    "        "
   ]
  },
  {
   "cell_type": "code",
   "execution_count": 33,
   "id": "93e909a5-e1ef-4eb3-bcf5-f2df2ec2cf40",
   "metadata": {},
   "outputs": [
    {
     "name": "stdout",
     "output_type": "stream",
     "text": [
      "\n",
      " linked list : insert at ending\n",
      "1. Insertatbegning\n",
      " 2.Insertatend \n",
      " 3. search \n",
      " 4. Exit\n"
     ]
    },
    {
     "name": "stdin",
     "output_type": "stream",
     "text": [
      "enter the choice 1\n",
      "enter the element to insert: 22\n"
     ]
    },
    {
     "name": "stdout",
     "output_type": "stream",
     "text": [
      "22 is inserted from begining\n",
      "\n",
      " linked list : insert at ending\n",
      "1. Insertatbegning\n",
      " 2.Insertatend \n",
      " 3. search \n",
      " 4. Exit\n"
     ]
    },
    {
     "name": "stdin",
     "output_type": "stream",
     "text": [
      "enter the choice 1\n",
      "enter the element to insert: 44\n"
     ]
    },
    {
     "name": "stdout",
     "output_type": "stream",
     "text": [
      "44 is inserted from begining\n",
      "\n",
      " linked list : insert at ending\n",
      "1. Insertatbegning\n",
      " 2.Insertatend \n",
      " 3. search \n",
      " 4. Exit\n"
     ]
    },
    {
     "name": "stdin",
     "output_type": "stream",
     "text": [
      "enter the choice 1\n",
      "enter the element to insert: 55\n"
     ]
    },
    {
     "name": "stdout",
     "output_type": "stream",
     "text": [
      "55 is inserted from begining\n",
      "\n",
      " linked list : insert at ending\n",
      "1. Insertatbegning\n",
      " 2.Insertatend \n",
      " 3. search \n",
      " 4. Exit\n"
     ]
    },
    {
     "name": "stdin",
     "output_type": "stream",
     "text": [
      "enter the choice 2\n",
      "enter the element to insert: 77\n"
     ]
    },
    {
     "name": "stdout",
     "output_type": "stream",
     "text": [
      "77 insterted at last\n",
      "\n",
      " linked list : insert at ending\n",
      "1. Insertatbegning\n",
      " 2.Insertatend \n",
      " 3. search \n",
      " 4. Exit\n"
     ]
    },
    {
     "name": "stdin",
     "output_type": "stream",
     "text": [
      "enter the choice 3\n",
      "enter the element 44\n"
     ]
    },
    {
     "name": "stdout",
     "output_type": "stream",
     "text": [
      "44 element not found\n",
      "44 element foubd in ll\n",
      "\n",
      " linked list : insert at ending\n",
      "1. Insertatbegning\n",
      " 2.Insertatend \n",
      " 3. search \n",
      " 4. Exit\n"
     ]
    },
    {
     "name": "stdin",
     "output_type": "stream",
     "text": [
      "enter the choice 4\n"
     ]
    },
    {
     "name": "stdout",
     "output_type": "stream",
     "text": [
      "the operation exited\n"
     ]
    }
   ],
   "source": [
    "#### 'searching an element in ll'\n",
    "class Node:\n",
    "    def __init__(self,data):\n",
    "        self.data=data\n",
    "        self.next=None\n",
    "class Linked_list:\n",
    "    def __init__(self):\n",
    "        self.head=None\n",
    "    def iab(self,data):\n",
    "        newnode=Node(data)\n",
    "        newnode.next=self.head\n",
    "        self.head=newnode\n",
    "        print(f\"{data} is inserted from begining\")\n",
    "    def iae(self,data):\n",
    "        newnode=Node(data)\n",
    "        if self.head is None:\n",
    "            self.head=newnode\n",
    "            print(f\"{data}inserted at end\")\n",
    "            return\n",
    "        current=self.head\n",
    "        while current.next:\n",
    "            current=current.next\n",
    "        current.next=newnode\n",
    "        print(f\"{data} insterted at last\")\n",
    "    def search(self,key):\n",
    "        pos=1\n",
    "        current=self.head\n",
    "        while current:\n",
    "            if current.data==key:\n",
    "                print(f\"{key} element found in ll\")\n",
    "                return True\n",
    "            current=current.next\n",
    "            pos=+1\n",
    "            print(f\"{key} element not found\")\n",
    "       \n",
    "    def display(self):\n",
    "        current=self.head\n",
    "        if not current:\n",
    "            print(\"ll is empty\")\n",
    "        while current:\n",
    "            print(current.data,end='->')\n",
    "            current=current.next\n",
    "        print(\"none\")\n",
    "ll=Linked_list()\n",
    "while True:\n",
    "    print(\"\\n linked list : insert at ending\")\n",
    "    print(\"1. Insertatbegning\\n 2.Insertatend \\n 3. search \\n 4. Exit\")\n",
    "    choose=int(input(\"enter the choice\"))\n",
    "    if choose==1:\n",
    "        data=int(input(\"enter the element to insert:\"))\n",
    "        ll.iab(data)\n",
    "    elif choose==2:\n",
    "        data=int(input(\"enter the element to insert:\"))\n",
    "        ll.iae(data)\n",
    "    \n",
    "    elif choose==3:\n",
    "        key=int(input(\"enter the element\"))\n",
    "        ll.search(key)\n",
    "    elif choose==4:\n",
    "        print(\"the operation exited\")\n",
    "        break\n",
    "    else:\n",
    "        print(\"invalid option\")\n",
    "        "
   ]
  },
  {
   "cell_type": "code",
   "execution_count": null,
   "id": "3b0ded4f-9b12-4392-aa31-0c2151a61032",
   "metadata": {},
   "outputs": [],
   "source": []
  }
 ],
 "metadata": {
  "kernelspec": {
   "display_name": "Python 3 (ipykernel)",
   "language": "python",
   "name": "python3"
  },
  "language_info": {
   "codemirror_mode": {
    "name": "ipython",
    "version": 3
   },
   "file_extension": ".py",
   "mimetype": "text/x-python",
   "name": "python",
   "nbconvert_exporter": "python",
   "pygments_lexer": "ipython3",
   "version": "3.12.7"
  }
 },
 "nbformat": 4,
 "nbformat_minor": 5
}
