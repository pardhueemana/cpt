{
 "cells": [
  {
   "cell_type": "code",
   "execution_count": 1,
   "id": "f8db2f12-678a-4bb2-ba63-dd4785eb0de5",
   "metadata": {},
   "outputs": [
    {
     "name": "stdin",
     "output_type": "stream",
     "text": [
      "enter the elements: 9 6 8 2 4 1 7 3 \n"
     ]
    },
    {
     "name": "stdout",
     "output_type": "stream",
     "text": [
      "flip at 8:[3, 7, 1, 4, 2, 8, 6, 9]\n",
      "flip at 6:[8, 2, 4, 1, 7, 3, 6, 9]\n",
      "flip at 7:[6, 3, 7, 1, 4, 2, 8, 9]\n",
      "flip at 3:[7, 3, 6, 1, 4, 2, 8, 9]\n",
      "flip at 6:[2, 4, 1, 6, 3, 7, 8, 9]\n",
      "flip at 4:[6, 1, 4, 2, 3, 7, 8, 9]\n",
      "flip at 5:[3, 2, 4, 1, 6, 7, 8, 9]\n",
      "flip at 3:[4, 2, 3, 1, 6, 7, 8, 9]\n",
      "flip at 4:[1, 3, 2, 4, 6, 7, 8, 9]\n",
      "flip at 2:[3, 1, 2, 4, 6, 7, 8, 9]\n",
      "flip at 3:[2, 1, 3, 4, 6, 7, 8, 9]\n",
      "flip at 2:[1, 2, 3, 4, 6, 7, 8, 9]\n",
      "sorted array: [1, 2, 3, 4, 6, 7, 8, 9]\n"
     ]
    }
   ],
   "source": [
    "'''\n",
    "pancake sort\n",
    "1. highest value\n",
    "2.highest value flip\n",
    "3.total flip\n",
    "4.repeat until all values are sorted.\n",
    "\n",
    "Algorithm:\n",
    "1.start caomplete array and decrease the size (n-1)\n",
    "2.for each size:\n",
    "  -> find the index of max element\n",
    "  -> flip the array with max element\n",
    "  -> flip the total array to the current size\n",
    "  max -> move to the end of the array\n",
    "3.Repeat step 1 by n-2,n-3,..... for the nth reduce element perform step-2 untill 0th index valu respectively\n",
    "'''\n",
    "\n",
    "def flip(arr,k):\n",
    "    return arr[:k+1][::-1]+arr[k+1:]\n",
    "def pancake_sort(arr):\n",
    "    for size in range(len(arr),1,-1):\n",
    "        max_index = arr.index(max(arr[:size]))\n",
    "        if max_index != size-1:\n",
    "            if max_index!=0:\n",
    "                arr=flip(arr,max_index)\n",
    "                print(f\"flip at {max_index+1}:{arr}\")\n",
    "            arr=flip(arr,size-1)\n",
    "            print(f\"flip at {size}:{arr}\")\n",
    "    return arr\n",
    "num= list(map(int, input(\"enter the elements:\").split()))\n",
    "res=pancake_sort(num)\n",
    "print(\"sorted array:\",res)"
   ]
  },
  {
   "cell_type": "code",
   "execution_count": 3,
   "id": "8bfc6f81-b23f-48b5-bc88-b3235befba08",
   "metadata": {},
   "outputs": [
    {
     "name": "stdout",
     "output_type": "stream",
     "text": [
      "hi ,hello good morning.\n"
     ]
    }
   ],
   "source": [
    "'''\n",
    "File handling :\n",
    "    files\n",
    "    types \n",
    "    paths\n",
    "    open/close\n",
    "    reading \n",
    "    writing \n",
    "    appending data into that file \n",
    "    file directory \n",
    "    os module method\n",
    "'''\n",
    "file=open(\"sample.txt\",\"r\")\n",
    "#file.write(\"how are you\")\n",
    "content=file.read()\n",
    "print(content)\n",
    "file.close()"
   ]
  },
  {
   "cell_type": "code",
   "execution_count": 5,
   "id": "b002e847-0427-46b5-b5a5-d271e5e6f1f8",
   "metadata": {},
   "outputs": [],
   "source": [
    "file=open(\"sample2.txt\",\"w\")\n",
    "file.write(\"qwertyuiopasdfghjklzxcvbnm\")\n",
    "file.close()"
   ]
  },
  {
   "cell_type": "code",
   "execution_count": 11,
   "id": "ce895366-67e4-4ae5-996b-fcdedac430cf",
   "metadata": {},
   "outputs": [],
   "source": [
    "with open (\"sample_binary.bin\",\"wb\")as file:\n",
    "    data=b'\\x48\\x65\\x6C\\x6C\\x6F'\n",
    "    file.write(data)"
   ]
  },
  {
   "cell_type": "code",
   "execution_count": null,
   "id": "66c966f4-16eb-4757-a8af-2c9d4486b2e6",
   "metadata": {},
   "outputs": [],
   "source": [
    "'''\n",
    "r - reading the file which has existed\n",
    "w - writing data in the file\n",
    "fileno() - file number\n",
    "flush() - file stream refresh\n",
    "readline/readlines\n",
    "truncate()\n",
    "rstrip()\n",
    "strip()'''"
   ]
  },
  {
   "cell_type": "code",
   "execution_count": 13,
   "id": "838c936b-e76a-4538-a345-bdafbed9ec76",
   "metadata": {},
   "outputs": [
    {
     "name": "stdin",
     "output_type": "stream",
     "text": [
      "enter the file name: sample.txt\n",
      "enter the character: h\n"
     ]
    },
    {
     "name": "stdout",
     "output_type": "stream",
     "text": [
      "h appear 2 times\n"
     ]
    }
   ],
   "source": [
    "filename=input(\"enter the file name:\")\n",
    "with open(filename)as file:\n",
    "    text=file.read()\n",
    "    l=input(\"enter the character:\")\n",
    "    c=0\n",
    "    for char in text:\n",
    "        if char==l:\n",
    "            c+=1\n",
    "print(l,\"appear\",c,\"times\")"
   ]
  },
  {
   "cell_type": "code",
   "execution_count": 19,
   "id": "208df17d-e6a7-412a-9901-737b5bd4b903",
   "metadata": {},
   "outputs": [
    {
     "name": "stdout",
     "output_type": "stream",
     "text": [
      "sucessfully renamed\n"
     ]
    }
   ],
   "source": [
    "import os\n",
    "os.rename(\"sample2.txt\",\"s2.txt\")\n",
    "print(\"sucessfully renamed\")"
   ]
  },
  {
   "cell_type": "code",
   "execution_count": 23,
   "id": "61734e88-14de-44eb-89ba-ee84df48fc57",
   "metadata": {},
   "outputs": [
    {
     "name": "stdout",
     "output_type": "stream",
     "text": [
      "sucessfully ...... gone\n"
     ]
    }
   ],
   "source": [
    "'''delete file'''\n",
    "import os\n",
    "os.remove(\"s2.txt\")\n",
    "print(\"sucessfully ...... gone\")"
   ]
  },
  {
   "cell_type": "code",
   "execution_count": null,
   "id": "fc2a5b8e-452b-45cb-a6e4-252075578a03",
   "metadata": {},
   "outputs": [],
   "source": []
  }
 ],
 "metadata": {
  "kernelspec": {
   "display_name": "Python 3 (ipykernel)",
   "language": "python",
   "name": "python3"
  },
  "language_info": {
   "codemirror_mode": {
    "name": "ipython",
    "version": 3
   },
   "file_extension": ".py",
   "mimetype": "text/x-python",
   "name": "python",
   "nbconvert_exporter": "python",
   "pygments_lexer": "ipython3",
   "version": "3.12.7"
  }
 },
 "nbformat": 4,
 "nbformat_minor": 5
}
