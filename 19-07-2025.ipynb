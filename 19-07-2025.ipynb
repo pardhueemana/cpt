{
 "cells": [
  {
   "cell_type": "code",
   "execution_count": 1,
   "id": "f863d4d1-42cb-44b2-aed7-c9d4a3cc7a77",
   "metadata": {},
   "outputs": [
    {
     "data": {
      "text/plain": [
       "'Exceptional handling:\\nerrors- logical errors/syntax\\nexceptions- sync async\\n1)exception - for base classes\\n2)ArthmeticError - math errors\\n3)ZeroDivisionError - 4/0\\n4)StopIteration= next method or iteration limit exceeds\\n5)SystemExit-current os exit\\n6)StandaraError=pre defined keywords\\n7)EOFError=i/o till the endoffile\\n8)Importerror=file existing errors\\n9)keyboardInterrupt- execution interrupt\\n10)nameError-\\n11)valueError-\\n12)IndexError-\\n13)TypeError-\\n14)IoError-\\n15)SyntaxError-\\n16)RuntimeError-\\n17)IndentationError-\\n18)AtributeError-\\n19)Assertionerror-\\n'"
      ]
     },
     "execution_count": 1,
     "metadata": {},
     "output_type": "execute_result"
    }
   ],
   "source": [
    "'''Exceptional handling:\n",
    "errors- logical errors/syntax\n",
    "exceptions- sync async\n",
    "1)exception - for base classes\n",
    "2)ArthmeticError - math errors\n",
    "3)ZeroDivisionError - 4/0\n",
    "4)StopIteration= next method or iteration limit exceeds\n",
    "5)SystemExit-current os exit\n",
    "6)StandaraError=pre defined keywords\n",
    "7)EOFError=i/o till the endoffile\n",
    "8)Importerror=file existing errors\n",
    "9)keyboardInterrupt- execution interrupt\n",
    "10)nameError-\n",
    "11)valueError-\n",
    "12)IndexError-\n",
    "13)TypeError-\n",
    "14)IoError-\n",
    "15)SyntaxError-\n",
    "16)RuntimeError-\n",
    "17)IndentationError-\n",
    "18)AtributeError-\n",
    "19)Assertionerror-\n",
    "'''"
   ]
  },
  {
   "cell_type": "code",
   "execution_count": 7,
   "id": "9aca4cca-98d5-4e28-8b2c-ccb62300b5ed",
   "metadata": {},
   "outputs": [
    {
     "name": "stdin",
     "output_type": "stream",
     "text": [
      "enter numerator: 4\n",
      "enter denominaor: 5\n"
     ]
    },
    {
     "name": "stdout",
     "output_type": "stream",
     "text": [
      "result: 0.8\n"
     ]
    }
   ],
   "source": [
    "try:\n",
    "    num1=int(input('enter numerator:'))\n",
    "    num2=int(input('enter denominaor:'))\n",
    "    output=num1/num2\n",
    "    print(\"result:\",output)\n",
    "except ZeroDivisionError:\n",
    "    print('cannot divide by zero...')"
   ]
  },
  {
   "cell_type": "code",
   "execution_count": 9,
   "id": "08e5ae4e-24d5-4582-9ce0-dd3e05e9d1f5",
   "metadata": {},
   "outputs": [
    {
     "name": "stdin",
     "output_type": "stream",
     "text": [
      "enter the file name: p1.txt\n"
     ]
    },
    {
     "name": "stdout",
     "output_type": "stream",
     "text": [
      "flie does not exit..\n"
     ]
    }
   ],
   "source": [
    "try:\n",
    "    filename=input(\"enter the file name:\")\n",
    "    file=open(filename,'r')\n",
    "    number=int(file.readline())\n",
    "    print(\"number from file\",number)\n",
    "    file.close()\n",
    "except FileNotFoundError:\n",
    "    print('flie does not exit..')\n",
    "except valueError:\n",
    "    print(\"File does not have integer...\")\n",
    "except:\n",
    "    print(\"unknown Error...\")"
   ]
  },
  {
   "cell_type": "code",
   "execution_count": 11,
   "id": "514c75e9-8896-43d2-bbf7-8bfb48f11716",
   "metadata": {},
   "outputs": [
    {
     "name": "stdin",
     "output_type": "stream",
     "text": [
      "enter a number: 6\n"
     ]
    },
    {
     "name": "stdout",
     "output_type": "stream",
     "text": [
      "216\n",
      "program Terminated...\n"
     ]
    }
   ],
   "source": [
    "try:\n",
    "    num=int(input(\"enter a number:\"))\n",
    "    print(num**3)\n",
    "except (KeyboardTnterrupt,valueError,TypeError):\n",
    "    print(\"please check before executing....\")\n",
    "print(\"program Terminated...\")"
   ]
  },
  {
   "cell_type": "code",
   "execution_count": 15,
   "id": "9e4959ff-ac7c-4192-abe5-6fb218793602",
   "metadata": {},
   "outputs": [
    {
     "name": "stdin",
     "output_type": "stream",
     "text": [
      "enter a number: 65\n"
     ]
    },
    {
     "name": "stdout",
     "output_type": "stream",
     "text": [
      "SquareRoot: 8.0623\n"
     ]
    }
   ],
   "source": [
    "import math\n",
    "try:\n",
    "    num=int(input(\"enter a number:\"))\n",
    "    if num<0:\n",
    "        raise ValueError(\"negitive number....\")\n",
    "except ValueError:\n",
    "    print(\"enter positive number only...\")\n",
    "else:\n",
    "    print(\"SquareRoot:\",round(math.sqrt(num),4))"
   ]
  },
  {
   "cell_type": "code",
   "execution_count": 21,
   "id": "af8a42c5-ead3-4cb4-87ed-6f5149f067a6",
   "metadata": {},
   "outputs": [
    {
     "name": "stdin",
     "output_type": "stream",
     "text": [
      "enter the number: 23\n"
     ]
    },
    {
     "name": "stdout",
     "output_type": "stream",
     "text": [
      "23\n"
     ]
    },
    {
     "ename": "ValueError",
     "evalue": "wantedly raised",
     "output_type": "error",
     "traceback": [
      "\u001b[1;31m---------------------------------------------------------------------------\u001b[0m",
      "\u001b[1;31mValueError\u001b[0m                                Traceback (most recent call last)",
      "Cell \u001b[1;32mIn[21], line 5\u001b[0m\n\u001b[0;32m      3\u001b[0m     num\u001b[38;5;241m=\u001b[39m\u001b[38;5;28mint\u001b[39m(\u001b[38;5;28minput\u001b[39m(\u001b[38;5;124m\"\u001b[39m\u001b[38;5;124menter the number:\u001b[39m\u001b[38;5;124m\"\u001b[39m))\n\u001b[0;32m      4\u001b[0m     \u001b[38;5;28mprint\u001b[39m(num)\n\u001b[1;32m----> 5\u001b[0m     \u001b[38;5;28;01mraise\u001b[39;00m \u001b[38;5;167;01mValueError\u001b[39;00m(\u001b[38;5;124m\"\u001b[39m\u001b[38;5;124mwantedly raised\u001b[39m\u001b[38;5;124m\"\u001b[39m)\n\u001b[0;32m      6\u001b[0m \u001b[38;5;28;01mexcept\u001b[39;00m \u001b[38;5;167;01mTypeError\u001b[39;00m:\n\u001b[0;32m      7\u001b[0m     \u001b[38;5;28mprint\u001b[39m(\u001b[38;5;124m\"\u001b[39m\u001b[38;5;124mexception raised intentionally even no use....\u001b[39m\u001b[38;5;124m\"\u001b[39m)\n",
      "\u001b[1;31mValueError\u001b[0m: wantedly raised"
     ]
    }
   ],
   "source": [
    "import math\n",
    "try:\n",
    "    num=int(input(\"enter the number:\"))\n",
    "    print(num)\n",
    "    raise ValueError(\"wantedly raised\")\n",
    "except TypeError:\n",
    "    print(\"exception raised intentionally even no use....\")"
   ]
  },
  {
   "cell_type": "code",
   "execution_count": 33,
   "id": "d0b74328-23e6-46b5-919b-73419540619d",
   "metadata": {},
   "outputs": [
    {
     "name": "stdin",
     "output_type": "stream",
     "text": [
      "enter the number: 1\n",
      "enter the number: 0\n"
     ]
    }
   ],
   "source": [
    "import datetime\n",
    "try:\n",
    "    a=eval(input(\"enter the number:\"))\n",
    "    b=eval(input(\"enter the number:\"))\n",
    "    c=a/b\n",
    "    print(\"result:\",c)\n",
    "except Exception as e :\n",
    "    ct=datetime.datetime.now().strftime(\"%Y-%m-%d %H-%M-%S\")\n",
    "    txt=f\"[{ct}]{type(e).__name__}-{e}\\n\"\n",
    "    with open(\"p1.txt\",\"a\") as f:\n",
    "        f.write(txt)\n",
    "    "
   ]
  },
  {
   "cell_type": "code",
   "execution_count": null,
   "id": "aee14fad-79bf-4b12-90af-f0fa04456471",
   "metadata": {},
   "outputs": [],
   "source": []
  }
 ],
 "metadata": {
  "kernelspec": {
   "display_name": "Python 3 (ipykernel)",
   "language": "python",
   "name": "python3"
  },
  "language_info": {
   "codemirror_mode": {
    "name": "ipython",
    "version": 3
   },
   "file_extension": ".py",
   "mimetype": "text/x-python",
   "name": "python",
   "nbconvert_exporter": "python",
   "pygments_lexer": "ipython3",
   "version": "3.12.7"
  }
 },
 "nbformat": 4,
 "nbformat_minor": 5
}
