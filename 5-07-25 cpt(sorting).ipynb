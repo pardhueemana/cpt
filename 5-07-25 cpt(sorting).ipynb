{
 "cells": [
  {
   "cell_type": "code",
   "execution_count": 3,
   "id": "8e7bbb86-a3e4-404f-99b8-e717b8fa2d48",
   "metadata": {},
   "outputs": [
    {
     "name": "stdin",
     "output_type": "stream",
     "text": [
      "enter the elements: 1 33 44 2 25 78\n"
     ]
    },
    {
     "name": "stdout",
     "output_type": "stream",
     "text": [
      "sorted array [1, 2, 25, 33, 44, 78]\n"
     ]
    }
   ],
   "source": [
    "'''\n",
    "1. start from the first element in the list/array\n",
    "2. arr[0] = min \n",
    "3. compare with all the remaining elements to find the real lowest element \n",
    "4. perform swaping with current position \n",
    "5. repeat the same with adding position values for each, min check\n",
    "'''\n",
    "def selection_shorting(arr):\n",
    "    for i in range(len(arr)):\n",
    "        mi=i\n",
    "        for j in range(i+1,len(arr)):\n",
    "            if arr[j]<arr[mi]:\n",
    "                mi=j\n",
    "        arr[i],arr[mi]=arr[mi],arr[i]\n",
    "    return arr\n",
    "arr=list(map(int,input(\"enter the elements:\").split()))\n",
    "res=selection_shorting(arr)\n",
    "print(\"sorted array\",res)\n",
    "        "
   ]
  },
  {
   "cell_type": "code",
   "execution_count": 5,
   "id": "67b5d64d-da36-4b0d-807e-6b6e80d283e5",
   "metadata": {},
   "outputs": [
    {
     "name": "stdin",
     "output_type": "stream",
     "text": [
      "enter the elements: 1 33 44 2 25 78\n"
     ]
    },
    {
     "name": "stdout",
     "output_type": "stream",
     "text": [
      "sorted array [78, 44, 33, 25, 2, 1]\n"
     ]
    }
   ],
   "source": [
    "#descending order\n",
    "def selection_shorting(arr):\n",
    "    for i in range(len(arr)):\n",
    "        mi=i\n",
    "        for j in range(i+1,len(arr)):\n",
    "            if arr[j]>arr[mi]:\n",
    "                mi=j\n",
    "        arr[i],arr[mi]=arr[mi],arr[i]\n",
    "    return arr\n",
    "arr=list(map(int,input(\"enter the elements:\").split()))\n",
    "res=selection_shorting(arr)\n",
    "print(\"sorted array\",res)"
   ]
  },
  {
   "cell_type": "code",
   "execution_count": 15,
   "id": "7b7082d9-f3c9-4008-9196-e1c9d9c4b3a1",
   "metadata": {},
   "outputs": [
    {
     "name": "stdin",
     "output_type": "stream",
     "text": [
      "enter the elements:  55 33 44 2 25 78\n"
     ]
    },
    {
     "name": "stdout",
     "output_type": "stream",
     "text": [
      "sorted array [2, 25, 33, 44, 55, 78]\n"
     ]
    }
   ],
   "source": [
    "'''\n",
    "inserction sort\n",
    "1. start from the second element(i=1)\n",
    "2. previous index valued element check\n",
    "3. shift larger element one position to right\n",
    "4. insert the current element in the correct position\n",
    "5. repeat untill list sorted\n",
    "'''\n",
    "def insertion_sort(arr):\n",
    "    for i in range(1,len(arr)):\n",
    "        key=arr[i]\n",
    "        j=i-1\n",
    "        while arr[j]>key and j>=0:\n",
    "            arr[j+1]=arr[j]\n",
    "            j-=1\n",
    "        arr[j+1]=key\n",
    "    return arr\n",
    "arr=list(map(int,input(\"enter the elements:\").split()))\n",
    "res=insertion_sort(arr)\n",
    "print(\"sorted array\",res)"
   ]
  },
  {
   "cell_type": "code",
   "execution_count": 3,
   "id": "39d9370a-ed87-43c8-b928-244ae387e051",
   "metadata": {},
   "outputs": [
    {
     "name": "stdin",
     "output_type": "stream",
     "text": [
      "enter the elements: apple cherry banana dragon ice loki\n"
     ]
    },
    {
     "name": "stdout",
     "output_type": "stream",
     "text": [
      "sorted array ['apple', 'banana', 'cherry', 'dragon', 'ice', 'loki']\n"
     ]
    }
   ],
   "source": [
    "def insertion_sort(arr):\n",
    "    for i in range(1,len(arr)):\n",
    "        key=arr[i]\n",
    "        j=i-1\n",
    "        while arr[j]>key and j>=0:\n",
    "            arr[j+1]=arr[j]\n",
    "            j-=1\n",
    "        arr[j+1]=key\n",
    "    return arr\n",
    "arr=list(map(str,input(\"enter the elements:\").split()))\n",
    "res=insertion_sort(arr)\n",
    "print(\"sorted array\",res)"
   ]
  },
  {
   "cell_type": "code",
   "execution_count": 1,
   "id": "8915e6c8-4618-4707-81fb-f832399c6470",
   "metadata": {},
   "outputs": [
    {
     "data": {
      "text/plain": [
       "'perform insertion sort on strings based on length of the words'"
      ]
     },
     "execution_count": 1,
     "metadata": {},
     "output_type": "execute_result"
    }
   ],
   "source": [
    "'''perform insertion sort on strings based on length of the words'''"
   ]
  },
  {
   "cell_type": "code",
   "execution_count": 13,
   "id": "372bc862-ce53-4d6f-aa00-ea89ec7f93dd",
   "metadata": {},
   "outputs": [
    {
     "name": "stdin",
     "output_type": "stream",
     "text": [
      "enter the string: pardhu\n"
     ]
    },
    {
     "name": "stdout",
     "output_type": "stream",
     "text": [
      "['p', 'a', 'r', 'd', 'h', 'u']\n"
     ]
    }
   ],
   "source": [
    "def insertion_sort(arr):\n",
    "    for i in range(1,len(arr)):\n",
    "        key=arr[i]\n",
    "        j=i-1\n",
    "        while len(arr[j])>len(key) and j>=0:\n",
    "            arr[j+1]=arr[j]\n",
    "            j-=1\n",
    "        arr[j+1]=key\n",
    "    return arr\n",
    "arr=list(map(str,input(\"enter the elements:\").split()))\n",
    "res=insertion_sort(arr)\n",
    "print(\"sorted array\",res)"
   ]
  },
  {
   "cell_type": "code",
   "execution_count": 35,
   "id": "1563aac1-ff70-4824-b139-ca0b8d5a1d1e",
   "metadata": {},
   "outputs": [
    {
     "name": "stdin",
     "output_type": "stream",
     "text": [
      "enter the string: kushal\n"
     ]
    },
    {
     "name": "stdout",
     "output_type": "stream",
     "text": [
      "sorted char: ahklsu\n"
     ]
    }
   ],
   "source": [
    "#ex python ->hnopty\n",
    "def insertion_sort(arr):\n",
    "    for i in range(1,len(arr)):\n",
    "        key=arr[i]\n",
    "        j=i-1\n",
    "        while arr[j]>key and j>=0:\n",
    "            arr[j+1]=arr[j]\n",
    "            j-=1\n",
    "        arr[j+1]=key\n",
    "    return arr\n",
    "s=input(\"enter the string:\")\n",
    "ch=list(s)\n",
    "s_c=insertion_sort(ch)\n",
    "print(\"sorted char:\",''.join(ch))"
   ]
  },
  {
   "cell_type": "code",
   "execution_count": null,
   "id": "c9e41079-f54a-4d4a-b39f-e4ba57bf490d",
   "metadata": {},
   "outputs": [],
   "source": []
  }
 ],
 "metadata": {
  "kernelspec": {
   "display_name": "Python 3 (ipykernel)",
   "language": "python",
   "name": "python3"
  },
  "language_info": {
   "codemirror_mode": {
    "name": "ipython",
    "version": 3
   },
   "file_extension": ".py",
   "mimetype": "text/x-python",
   "name": "python",
   "nbconvert_exporter": "python",
   "pygments_lexer": "ipython3",
   "version": "3.12.7"
  }
 },
 "nbformat": 4,
 "nbformat_minor": 5
}
