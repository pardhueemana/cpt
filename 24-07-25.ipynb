{
 "cells": [
  {
   "cell_type": "code",
   "execution_count": 5,
   "id": "6802c244-3be3-4d2c-8f91-bb7cd574f7ab",
   "metadata": {},
   "outputs": [
    {
     "name": "stdout",
     "output_type": "stream",
     "text": [
      "\n",
      " linked list : insert at begining\n",
      "1. Insert \n",
      " 2. Display \n",
      " 3. delete\n",
      " 4.exit\n"
     ]
    },
    {
     "name": "stdin",
     "output_type": "stream",
     "text": [
      "enter the choice 1\n",
      "enter the element to insert: 22\n"
     ]
    },
    {
     "name": "stdout",
     "output_type": "stream",
     "text": [
      "22inserted at end\n",
      "\n",
      " linked list : insert at begining\n",
      "1. Insert \n",
      " 2. Display \n",
      " 3. delete\n",
      " 4.exit\n"
     ]
    },
    {
     "name": "stdin",
     "output_type": "stream",
     "text": [
      "enter the choice 1\n",
      "enter the element to insert: 33\n"
     ]
    },
    {
     "name": "stdout",
     "output_type": "stream",
     "text": [
      "\n",
      " linked list : insert at begining\n",
      "1. Insert \n",
      " 2. Display \n",
      " 3. delete\n",
      " 4.exit\n"
     ]
    },
    {
     "name": "stdin",
     "output_type": "stream",
     "text": [
      "enter the choice 1\n",
      "enter the element to insert: 44\n"
     ]
    },
    {
     "name": "stdout",
     "output_type": "stream",
     "text": [
      "\n",
      " linked list : insert at begining\n",
      "1. Insert \n",
      " 2. Display \n",
      " 3. delete\n",
      " 4.exit\n"
     ]
    },
    {
     "name": "stdin",
     "output_type": "stream",
     "text": [
      "enter the choice 1\n",
      "enter the element to insert: 55\n"
     ]
    },
    {
     "name": "stdout",
     "output_type": "stream",
     "text": [
      "\n",
      " linked list : insert at begining\n",
      "1. Insert \n",
      " 2. Display \n",
      " 3. delete\n",
      " 4.exit\n"
     ]
    },
    {
     "name": "stdin",
     "output_type": "stream",
     "text": [
      "enter the choice 1\n",
      "enter the element to insert: 66\n"
     ]
    },
    {
     "name": "stdout",
     "output_type": "stream",
     "text": [
      "\n",
      " linked list : insert at begining\n",
      "1. Insert \n",
      " 2. Display \n",
      " 3. delete\n",
      " 4.exit\n"
     ]
    },
    {
     "name": "stdin",
     "output_type": "stream",
     "text": [
      "enter the choice 1\n",
      "enter the element to insert: 99\n"
     ]
    },
    {
     "name": "stdout",
     "output_type": "stream",
     "text": [
      "\n",
      " linked list : insert at begining\n",
      "1. Insert \n",
      " 2. Display \n",
      " 3. delete\n",
      " 4.exit\n"
     ]
    },
    {
     "name": "stdin",
     "output_type": "stream",
     "text": [
      "enter the choice 2\n"
     ]
    },
    {
     "name": "stdout",
     "output_type": "stream",
     "text": [
      "22->33->44->55->66->99->none\n",
      "\n",
      " linked list : insert at begining\n",
      "1. Insert \n",
      " 2. Display \n",
      " 3. delete\n",
      " 4.exit\n"
     ]
    },
    {
     "name": "stdin",
     "output_type": "stream",
     "text": [
      "enter the choice 3\n",
      "enter the element to delete: 99\n"
     ]
    },
    {
     "name": "stdout",
     "output_type": "stream",
     "text": [
      "99 deleted from the list\n",
      "\n",
      " linked list : insert at begining\n",
      "1. Insert \n",
      " 2. Display \n",
      " 3. delete\n",
      " 4.exit\n"
     ]
    },
    {
     "name": "stdin",
     "output_type": "stream",
     "text": [
      "enter the choice 2\n"
     ]
    },
    {
     "name": "stdout",
     "output_type": "stream",
     "text": [
      "22->33->44->55->66->none\n",
      "\n",
      " linked list : insert at begining\n",
      "1. Insert \n",
      " 2. Display \n",
      " 3. delete\n",
      " 4.exit\n"
     ]
    },
    {
     "name": "stdin",
     "output_type": "stream",
     "text": [
      "enter the choice 4\n"
     ]
    },
    {
     "name": "stdout",
     "output_type": "stream",
     "text": [
      "the operation exited\n"
     ]
    }
   ],
   "source": [
    "#deleting an element in yhe linked list\n",
    "\n",
    "class Node:\n",
    "    def __init__(self,data):\n",
    "        self.data=data\n",
    "        self.next=None\n",
    "class Linked_list:\n",
    "    def __init__(self):\n",
    "        self.head=None\n",
    "    def iae(self,data):\n",
    "        newnode=Node(data)\n",
    "        if self.head is None:\n",
    "            self.head=newnode\n",
    "            print(f\"{data}inserted at end\")\n",
    "            return\n",
    "        current=self.head\n",
    "        while current.next:\n",
    "            current=current.next\n",
    "        current.next=newnode\n",
    "\n",
    "    def deletevalue(self,key):\n",
    "        current=self.head\n",
    "        if not current:\n",
    "            print(\"empty ll\")\n",
    "            return\n",
    "        if current.data==key:\n",
    "            self.head=current.next\n",
    "            print(f\"{key} deleted from the list\")\n",
    "            return\n",
    "        prev=None\n",
    "        while current and current.data!=key:\n",
    "            prev=current\n",
    "            current=current.next\n",
    "        if not current:\n",
    "            print(f\"{key}not found\")\n",
    "            return\n",
    "        prev.next=current.next\n",
    "        print(f\"{key} deleted from the list\")\n",
    "    def display(self):\n",
    "        current=self.head\n",
    "        if not current:\n",
    "            print(\"ll is empty\")\n",
    "        while current:\n",
    "            print(current.data,end='->')\n",
    "            current=current.next\n",
    "        print(\"none\")\n",
    "ll=Linked_list()\n",
    "while True:\n",
    "    print(\"\\n linked list : insert at begining\")\n",
    "    print(\"1. Insert \\n 2. Display \\n 3. delete\\n 4.exit\")\n",
    "    choose=int(input(\"enter the choice\"))\n",
    "    if choose==1:\n",
    "        data=int(input(\"enter the element to insert:\"))\n",
    "        ll.iae(data)\n",
    "    elif choose==2:\n",
    "        ll.display()\n",
    "    elif choose==3:\n",
    "        key=int(input(\"enter the element to delete:\"))\n",
    "        ll.deletevalue(key)\n",
    "    elif choose==4:\n",
    "        print(\"the operation exited\")\n",
    "        break\n",
    "    else:\n",
    "        print(\"invalid option\")"
   ]
  },
  {
   "cell_type": "code",
   "execution_count": 15,
   "id": "78d5874d-d86f-4519-ac6a-6620795a0c6b",
   "metadata": {},
   "outputs": [
    {
     "name": "stdout",
     "output_type": "stream",
     "text": [
      "\n",
      " linked list : insert at begining\n",
      "1. Insert \n",
      " 2. Display \n",
      " 3. delete\n",
      " 4.exit\n"
     ]
    },
    {
     "name": "stdin",
     "output_type": "stream",
     "text": [
      "enter the choice 1\n",
      "enter the element to insert: 11\n"
     ]
    },
    {
     "name": "stdout",
     "output_type": "stream",
     "text": [
      "11inserted at end\n",
      "\n",
      " linked list : insert at begining\n",
      "1. Insert \n",
      " 2. Display \n",
      " 3. delete\n",
      " 4.exit\n"
     ]
    },
    {
     "name": "stdin",
     "output_type": "stream",
     "text": [
      "enter the choice 1\n",
      "enter the element to insert: 22\n"
     ]
    },
    {
     "name": "stdout",
     "output_type": "stream",
     "text": [
      "\n",
      " linked list : insert at begining\n",
      "1. Insert \n",
      " 2. Display \n",
      " 3. delete\n",
      " 4.exit\n"
     ]
    },
    {
     "name": "stdin",
     "output_type": "stream",
     "text": [
      "enter the choice 1\n",
      "enter the element to insert: 33\n"
     ]
    },
    {
     "name": "stdout",
     "output_type": "stream",
     "text": [
      "\n",
      " linked list : insert at begining\n",
      "1. Insert \n",
      " 2. Display \n",
      " 3. delete\n",
      " 4.exit\n"
     ]
    },
    {
     "name": "stdin",
     "output_type": "stream",
     "text": [
      "enter the choice 1\n",
      "enter the element to insert: 44\n"
     ]
    },
    {
     "name": "stdout",
     "output_type": "stream",
     "text": [
      "\n",
      " linked list : insert at begining\n",
      "1. Insert \n",
      " 2. Display \n",
      " 3. delete\n",
      " 4.exit\n"
     ]
    },
    {
     "name": "stdin",
     "output_type": "stream",
     "text": [
      "enter the choice 1\n",
      "enter the element to insert: 55\n"
     ]
    },
    {
     "name": "stdout",
     "output_type": "stream",
     "text": [
      "\n",
      " linked list : insert at begining\n",
      "1. Insert \n",
      " 2. Display \n",
      " 3. delete\n",
      " 4.exit\n"
     ]
    },
    {
     "name": "stdin",
     "output_type": "stream",
     "text": [
      "enter the choice 2\n"
     ]
    },
    {
     "name": "stdout",
     "output_type": "stream",
     "text": [
      "11->22->33->44->55->none\n",
      "\n",
      " linked list : insert at begining\n",
      "1. Insert \n",
      " 2. Display \n",
      " 3. delete\n",
      " 4.exit\n"
     ]
    },
    {
     "name": "stdin",
     "output_type": "stream",
     "text": [
      "enter the choice 3\n"
     ]
    },
    {
     "name": "stdout",
     "output_type": "stream",
     "text": [
      "deleted node from begining: 11\n",
      "\n",
      " linked list : insert at begining\n",
      "1. Insert \n",
      " 2. Display \n",
      " 3. delete\n",
      " 4.exit\n"
     ]
    },
    {
     "name": "stdin",
     "output_type": "stream",
     "text": [
      "enter the choice 2\n"
     ]
    },
    {
     "name": "stdout",
     "output_type": "stream",
     "text": [
      "22->33->44->55->none\n",
      "\n",
      " linked list : insert at begining\n",
      "1. Insert \n",
      " 2. Display \n",
      " 3. delete\n",
      " 4.exit\n"
     ]
    },
    {
     "name": "stdin",
     "output_type": "stream",
     "text": [
      "enter the choice 4\n"
     ]
    },
    {
     "name": "stdout",
     "output_type": "stream",
     "text": [
      "the operation exited\n"
     ]
    }
   ],
   "source": [
    "class Node:\n",
    "    def __init__(self,data):\n",
    "        self.data=data\n",
    "        self.next=None\n",
    "class Linked_list:\n",
    "    def __init__(self):\n",
    "        self.head=None\n",
    "    def iae(self,data):\n",
    "        newnode=Node(data)\n",
    "        if self.head is None:\n",
    "            self.head=newnode\n",
    "            print(f\"{data}inserted at end\")\n",
    "            return\n",
    "        current=self.head\n",
    "        while current.next:\n",
    "            current=current.next\n",
    "        current.next=newnode\n",
    "    def delatb(self):\n",
    "        if self.head is None:\n",
    "            print(\"empty ll\")\n",
    "        else:\n",
    "            print(\"deleted node from begining:\",self.head.data)\n",
    "            self.head=self.head.next\n",
    "    def display(self):\n",
    "        current=self.head\n",
    "        if not current:\n",
    "            print(\"ll is empty\")\n",
    "        while current:\n",
    "            print(current.data,end='->')\n",
    "            current=current.next\n",
    "        print(\"none\")\n",
    "ll=Linked_list()\n",
    "while True:\n",
    "    print(\"\\n linked list : insert at begining\")\n",
    "    print(\"1. Insert \\n 2. Display \\n 3. delete\\n 4.exit\")\n",
    "    choose=int(input(\"enter the choice\"))\n",
    "    if choose==1:\n",
    "        data=int(input(\"enter the element to insert:\"))\n",
    "        ll.iae(data)\n",
    "    elif choose==2:\n",
    "        ll.display()\n",
    "    elif choose==3:\n",
    "        ll.delatb()\n",
    "    elif choose==4:\n",
    "        print(\"the operation exited\")\n",
    "        break\n",
    "    else:\n",
    "        print(\"invalid option\")"
   ]
  },
  {
   "cell_type": "code",
   "execution_count": 9,
   "id": "044ed506-6a93-418c-80bb-2eadead7cc44",
   "metadata": {},
   "outputs": [
    {
     "name": "stdout",
     "output_type": "stream",
     "text": [
      "\n",
      " linked list : insert at begining\n",
      "1. Insert \n",
      " 2. Display \n",
      " 3. delete\n",
      " 4.exit\n"
     ]
    },
    {
     "name": "stdin",
     "output_type": "stream",
     "text": [
      "enter the choice 1\n",
      "enter the element to insert: 11\n"
     ]
    },
    {
     "name": "stdout",
     "output_type": "stream",
     "text": [
      "11inserted at end\n",
      "\n",
      " linked list : insert at begining\n",
      "1. Insert \n",
      " 2. Display \n",
      " 3. delete\n",
      " 4.exit\n"
     ]
    },
    {
     "name": "stdin",
     "output_type": "stream",
     "text": [
      "enter the choice 2\n"
     ]
    },
    {
     "name": "stdout",
     "output_type": "stream",
     "text": [
      "11->none\n",
      "\n",
      " linked list : insert at begining\n",
      "1. Insert \n",
      " 2. Display \n",
      " 3. delete\n",
      " 4.exit\n"
     ]
    },
    {
     "name": "stdin",
     "output_type": "stream",
     "text": [
      "enter the choice 11\n"
     ]
    },
    {
     "name": "stdout",
     "output_type": "stream",
     "text": [
      "invalid option\n",
      "\n",
      " linked list : insert at begining\n",
      "1. Insert \n",
      " 2. Display \n",
      " 3. delete\n",
      " 4.exit\n"
     ]
    },
    {
     "name": "stdin",
     "output_type": "stream",
     "text": [
      "enter the choice 1\n",
      "enter the element to insert: 22\n"
     ]
    },
    {
     "name": "stdout",
     "output_type": "stream",
     "text": [
      "\n",
      " linked list : insert at begining\n",
      "1. Insert \n",
      " 2. Display \n",
      " 3. delete\n",
      " 4.exit\n"
     ]
    },
    {
     "name": "stdin",
     "output_type": "stream",
     "text": [
      "enter the choice 1\n",
      "enter the element to insert: 33\n"
     ]
    },
    {
     "name": "stdout",
     "output_type": "stream",
     "text": [
      "\n",
      " linked list : insert at begining\n",
      "1. Insert \n",
      " 2. Display \n",
      " 3. delete\n",
      " 4.exit\n"
     ]
    },
    {
     "name": "stdin",
     "output_type": "stream",
     "text": [
      "enter the choice 1\n",
      "enter the element to insert: 44\n"
     ]
    },
    {
     "name": "stdout",
     "output_type": "stream",
     "text": [
      "\n",
      " linked list : insert at begining\n",
      "1. Insert \n",
      " 2. Display \n",
      " 3. delete\n",
      " 4.exit\n"
     ]
    },
    {
     "name": "stdin",
     "output_type": "stream",
     "text": [
      "enter the choice 1\n",
      "enter the element to insert: 55\n"
     ]
    },
    {
     "name": "stdout",
     "output_type": "stream",
     "text": [
      "\n",
      " linked list : insert at begining\n",
      "1. Insert \n",
      " 2. Display \n",
      " 3. delete\n",
      " 4.exit\n"
     ]
    },
    {
     "name": "stdin",
     "output_type": "stream",
     "text": [
      "enter the choice 2\n"
     ]
    },
    {
     "name": "stdout",
     "output_type": "stream",
     "text": [
      "11->22->33->44->55->none\n",
      "\n",
      " linked list : insert at begining\n",
      "1. Insert \n",
      " 2. Display \n",
      " 3. delete\n",
      " 4.exit\n"
     ]
    },
    {
     "name": "stdin",
     "output_type": "stream",
     "text": [
      "enter the choice 3\n"
     ]
    },
    {
     "name": "stdout",
     "output_type": "stream",
     "text": [
      "deleted the node at end\n",
      "\n",
      " linked list : insert at begining\n",
      "1. Insert \n",
      " 2. Display \n",
      " 3. delete\n",
      " 4.exit\n"
     ]
    },
    {
     "name": "stdin",
     "output_type": "stream",
     "text": [
      "enter the choice 2\n"
     ]
    },
    {
     "name": "stdout",
     "output_type": "stream",
     "text": [
      "11->22->33->44->none\n",
      "\n",
      " linked list : insert at begining\n",
      "1. Insert \n",
      " 2. Display \n",
      " 3. delete\n",
      " 4.exit\n"
     ]
    },
    {
     "name": "stdin",
     "output_type": "stream",
     "text": [
      "enter the choice 4\n"
     ]
    },
    {
     "name": "stdout",
     "output_type": "stream",
     "text": [
      "the operation exited\n"
     ]
    }
   ],
   "source": [
    "class Node:\n",
    "    def __init__(self,data):\n",
    "        self.data=data\n",
    "        self.next=None\n",
    "class Linked_list:\n",
    "    def __init__(self):\n",
    "        self.head=None\n",
    "    def iae(self,data):\n",
    "        newnode=Node(data)\n",
    "        if self.head is None:\n",
    "            self.head=newnode\n",
    "            print(f\"{data}inserted at end\")\n",
    "            return\n",
    "        current=self.head\n",
    "        while current.next:\n",
    "            current=current.next\n",
    "        current.next=newnode\n",
    "    def delate(self):\n",
    "        if self.head is None:\n",
    "            print(\"empty ll\")\n",
    "        elif self.head.next is None:\n",
    "            self.head = None\n",
    "            print(\"deleted the only node\")\n",
    "        \n",
    "        else:\n",
    "            current=self.head\n",
    "            while current.next.next:\n",
    "                current=current.next\n",
    "            current.next=None\n",
    "        print(\"deleted the node at end\")\n",
    "            \n",
    "    def display(self):\n",
    "        current=self.head\n",
    "        if not current:\n",
    "            print(\"ll is empty\")\n",
    "        while current:\n",
    "            print(current.data,end='->')\n",
    "            current=current.next\n",
    "        print(\"none\")\n",
    "ll=Linked_list()\n",
    "while True:\n",
    "    print(\"\\n linked list : insert at begining\")\n",
    "    print(\"1. Insert \\n 2. Display \\n 3. delete\\n 4.exit\")\n",
    "    choose=int(input(\"enter the choice\"))\n",
    "    if choose==1:\n",
    "        data=int(input(\"enter the element to insert:\"))\n",
    "        ll.iae(data)\n",
    "    elif choose==2:\n",
    "        ll.display()\n",
    "    elif choose==3:\n",
    "        ll.delate()\n",
    "    elif choose==4:\n",
    "        print(\"the operation exited\")\n",
    "        break\n",
    "    else:\n",
    "        print(\"invalid option\")"
   ]
  },
  {
   "cell_type": "code",
   "execution_count": 21,
   "id": "db1f47c0-5afd-4a6d-916e-79a9d6b9fc6d",
   "metadata": {},
   "outputs": [
    {
     "name": "stdout",
     "output_type": "stream",
     "text": [
      "......ATM TRANSACTIONS......\n",
      "1.deposit\n",
      "2.withdraw\n",
      "3.history\n",
      "4.exit\n"
     ]
    },
    {
     "name": "stdin",
     "output_type": "stream",
     "text": [
      "enter the transaction: 1\n",
      "enter the amount: 1000\n"
     ]
    },
    {
     "name": "stdout",
     "output_type": "stream",
     "text": [
      "deposit of the 1000 recorded...\n",
      "......ATM TRANSACTIONS......\n",
      "1.deposit\n",
      "2.withdraw\n",
      "3.history\n",
      "4.exit\n"
     ]
    },
    {
     "name": "stdin",
     "output_type": "stream",
     "text": [
      "enter the transaction: 1\n",
      "enter the amount: 230\n"
     ]
    },
    {
     "name": "stdout",
     "output_type": "stream",
     "text": [
      "deposit of the 230 recorded...\n",
      "......ATM TRANSACTIONS......\n",
      "1.deposit\n",
      "2.withdraw\n",
      "3.history\n",
      "4.exit\n"
     ]
    },
    {
     "name": "stdin",
     "output_type": "stream",
     "text": [
      "enter the transaction: 2\n",
      "enter the amount: 500\n"
     ]
    },
    {
     "name": "stdout",
     "output_type": "stream",
     "text": [
      "withdraw of the 500 recorded...\n",
      "......ATM TRANSACTIONS......\n",
      "1.deposit\n",
      "2.withdraw\n",
      "3.history\n",
      "4.exit\n"
     ]
    },
    {
     "name": "stdin",
     "output_type": "stream",
     "text": [
      "enter the transaction: 3\n"
     ]
    },
    {
     "name": "stdout",
     "output_type": "stream",
     "text": [
      "deposit of the 1000 recorded....\n",
      "deposit of the 230 recorded....\n",
      "withdraw of the 500 recorded....\n",
      "total transactions are: 4\n",
      "......ATM TRANSACTIONS......\n",
      "1.deposit\n",
      "2.withdraw\n",
      "3.history\n",
      "4.exit\n"
     ]
    },
    {
     "name": "stdin",
     "output_type": "stream",
     "text": [
      "enter the transaction: 4\n"
     ]
    },
    {
     "name": "stdout",
     "output_type": "stream",
     "text": [
      "Transactions are Done...\n"
     ]
    }
   ],
   "source": [
    "'''\n",
    "ATM Transactions \n",
    "'''\n",
    "class Transaction:\n",
    "    def __init__(self,t_type,amount):\n",
    "        self.type=t_type\n",
    "        self.amount=amount\n",
    "        self.next=None\n",
    "class T_history:\n",
    "    def __init__(self):\n",
    "        self.head=None\n",
    "    def add_tran(self,t_type,amount):\n",
    "        nn=Transaction(t_type,amount)\n",
    "        if not self.head:\n",
    "            self.head=nn\n",
    "        else:\n",
    "            current=self.head\n",
    "            while current.next:\n",
    "                current=current.next\n",
    "            current.next=nn\n",
    "        print(f\"{t_type} of the {amount} recorded...\")\n",
    "    def show_history(self):\n",
    "        if not self.head:\n",
    "            print(\"No transaction found...\")\n",
    "            return\n",
    "        count=1\n",
    "        current=self.head\n",
    "        while current:\n",
    "            count+=1\n",
    "            print(f\"{current.type} of the {current.amount} recorded....\")\n",
    "            current=current.next\n",
    "        print(\"total transactions are:\",count)\n",
    "his=T_history()\n",
    "while True:\n",
    "    print(\"......ATM TRANSACTIONS......\")\n",
    "    print(\"1.deposit\\n2.withdraw\\n3.history\\n4.exit\")\n",
    "    choice=int(input(\"enter the transaction:\"))\n",
    "    if choice==1:\n",
    "        amount=int(input(\"enter the amount:\"))\n",
    "        his.add_tran(\"deposit\",amount)\n",
    "    elif choice==2:\n",
    "        amount=int(input(\"enter the amount:\"))\n",
    "        his.add_tran(\"withdraw\",amount)\n",
    "    elif choice==3:\n",
    "        his.show_history()\n",
    "    elif choice==4:\n",
    "        print(\"Transactions are Done...\")\n",
    "        break\n",
    "    else:\n",
    "        print(\"enter the valid option..\")"
   ]
  },
  {
   "cell_type": "code",
   "execution_count": null,
   "id": "7f6549a9-ab16-4b6c-839f-64baffed63f4",
   "metadata": {},
   "outputs": [],
   "source": [
    "class Node:\n",
    "    def __init__(self,data):\n",
    "        self.data=data\n",
    "        self.next=None\n",
    "class Linked_list:\n",
    "    def __init__(self):\n",
    "        self.head=None\n",
    "    def iae(self,data):\n",
    "        newnode=Node(data)\n",
    "        if self.head is None:\n",
    "            self.head=newnode\n",
    "            print(f\"{data}inserted at end\")\n",
    "            return\n",
    "        current=self.head\n",
    "        while current.next:\n",
    "            current=current.next\n",
    "        current.next=newnode\n",
    "    def display(self):\n",
    "        if self.head is None:\n",
    "            print(\"empty ll\")\n",
    "        "
   ]
  }
 ],
 "metadata": {
  "kernelspec": {
   "display_name": "Python 3 (ipykernel)",
   "language": "python",
   "name": "python3"
  },
  "language_info": {
   "codemirror_mode": {
    "name": "ipython",
    "version": 3
   },
   "file_extension": ".py",
   "mimetype": "text/x-python",
   "name": "python",
   "nbconvert_exporter": "python",
   "pygments_lexer": "ipython3",
   "version": "3.12.7"
  }
 },
 "nbformat": 4,
 "nbformat_minor": 5
}
